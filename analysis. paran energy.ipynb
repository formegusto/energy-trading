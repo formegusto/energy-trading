{
 "cells": [
  {
   "cell_type": "code",
   "execution_count": 1,
   "id": "bfea5647",
   "metadata": {},
   "outputs": [],
   "source": [
    "%load_ext autoreload\n",
    "%autoreload 2\n",
    "%reload_ext autoreload\n",
    "\n",
    "import pandas as pd\n",
    "import numpy as np\n",
    "\n",
    "from src import Household"
   ]
  },
  {
   "cell_type": "code",
   "execution_count": 2,
   "id": "fda13e9f",
   "metadata": {},
   "outputs": [
    {
     "name": "stdout",
     "output_type": "stream",
     "text": [
      "현재요금 7300 61852.0 69152.0\n"
     ]
    }
   ],
   "source": [
    "buyer = Household(name=\"가구 1\", kwh=420).set_rate(\"단일\", \"기타\")\n",
    "\n",
    "print(\"현재요금\", buyer.basic, buyer.elec_rate, buyer.basic + buyer.elec_rate)"
   ]
  },
  {
   "cell_type": "code",
   "execution_count": 3,
   "id": "5a94f3c9",
   "metadata": {},
   "outputs": [
    {
     "name": "stdout",
     "output_type": "stream",
     "text": [
      "현재요금 910 13995.0 14905.0\n"
     ]
    }
   ],
   "source": [
    "seller = Household(name=\"가구 2\", kwh=150).set_rate(\"단일\", \"기타\")\n",
    "\n",
    "print(\"현재요금\", seller.basic, seller.elec_rate, seller.basic + seller.elec_rate)"
   ]
  },
  {
   "cell_type": "code",
   "execution_count": 4,
   "id": "ac1f2b9a",
   "metadata": {},
   "outputs": [
    {
     "name": "stdout",
     "output_type": "stream",
     "text": [
      "현재요금 7300 59046.0 66346.0\n"
     ]
    }
   ],
   "source": [
    "seller = Household(name=\"가구 2\", kwh=410).set_rate(\"단일\", \"기타\")\n",
    "\n",
    "print(\"현재요금\", seller.basic, seller.elec_rate, seller.basic + seller.elec_rate)"
   ]
  },
  {
   "cell_type": "code",
   "execution_count": 5,
   "id": "761cff42",
   "metadata": {},
   "outputs": [
    {
     "name": "stdout",
     "output_type": "stream",
     "text": [
      "현재요금 1600 54361.0 55961.0\n"
     ]
    }
   ],
   "source": [
    "seller = Household(name=\"가구 2\", kwh=390).set_rate(\"단일\", \"기타\")\n",
    "\n",
    "print(\"현재요금\", seller.basic, seller.elec_rate, seller.basic + seller.elec_rate)"
   ]
  },
  {
   "cell_type": "code",
   "execution_count": 6,
   "id": "fc108acc",
   "metadata": {},
   "outputs": [
    {
     "name": "stdout",
     "output_type": "stream",
     "text": [
      "현재요금 910 16794.0 17704.0\n"
     ]
    }
   ],
   "source": [
    "seller = Household(name=\"가구 2\", kwh=180).set_rate(\"단일\", \"기타\")\n",
    "\n",
    "print(\"현재요금\", seller.basic, seller.elec_rate, seller.basic + seller.elec_rate)"
   ]
  },
  {
   "cell_type": "code",
   "execution_count": 7,
   "id": "287a26dd",
   "metadata": {},
   "outputs": [
    {
     "name": "stdout",
     "output_type": "stream",
     "text": [
      "현재요금 910 18660.0 19570.0\n"
     ]
    }
   ],
   "source": [
    "seller = Household(name=\"가구 2\", kwh=200).set_rate(\"단일\", \"기타\")\n",
    "\n",
    "print(\"현재요금\", seller.basic, seller.elec_rate, seller.basic + seller.elec_rate)"
   ]
  },
  {
   "cell_type": "code",
   "execution_count": 8,
   "id": "d81a8994",
   "metadata": {},
   "outputs": [
    {
     "name": "stdout",
     "output_type": "stream",
     "text": [
      "현재요금 1600 37450.0 39050.0\n"
     ]
    }
   ],
   "source": [
    "other = Household(name=\"가구 3\", kwh=300).set_rate(\"단일\", \"기타\")\n",
    "\n",
    "print(\"현재요금\", other.basic, other.elec_rate, other.basic + other.elec_rate)"
   ]
  },
  {
   "cell_type": "code",
   "execution_count": 9,
   "id": "7cbef948",
   "metadata": {},
   "outputs": [
    {
     "name": "stdout",
     "output_type": "stream",
     "text": [
      "현재요금 1600 33692.0 35292.0\n"
     ]
    }
   ],
   "source": [
    "other = Household(name=\"가구 3\", kwh=280).set_rate(\"단일\", \"기타\")\n",
    "\n",
    "print(\"현재요금\", other.basic, other.elec_rate, other.basic + other.elec_rate)"
   ]
  },
  {
   "cell_type": "code",
   "execution_count": 10,
   "id": "eadafda2",
   "metadata": {},
   "outputs": [
    {
     "data": {
      "text/plain": [
       "1240"
      ]
     },
     "execution_count": 10,
     "metadata": {},
     "output_type": "execute_result"
    }
   ],
   "source": [
    "households_kwh = (410 + 420 + 150)\n",
    "public_kwh = 260\n",
    "\n",
    "(households_kwh + public_kwh)"
   ]
  },
  {
   "cell_type": "code",
   "execution_count": 11,
   "id": "9ad81587",
   "metadata": {},
   "outputs": [
    {
     "data": {
      "text/plain": [
       "61552"
      ]
     },
     "execution_count": 11,
     "metadata": {},
     "output_type": "execute_result"
    }
   ],
   "source": [
    "201563 - 9709 - 63956 - 66346"
   ]
  },
  {
   "cell_type": "code",
   "execution_count": 140,
   "id": "c8f246a9",
   "metadata": {},
   "outputs": [
    {
     "name": "stdout",
     "output_type": "stream",
     "text": [
      "현재요금 21900 179663.40000000002 201563.40000000002\n"
     ]
    }
   ],
   "source": [
    "apt = Household(name=\"APT\", kwh=413).set_rate(\"단일\", \"기타\")\n",
    "\n",
    "print(\"현재요금\", apt.basic * 3, apt.elec_rate * 3, (apt.basic + apt.elec_rate) * 3)"
   ]
  },
  {
   "cell_type": "code",
   "execution_count": 117,
   "id": "d39e622a",
   "metadata": {},
   "outputs": [
    {
     "data": {
      "text/plain": [
       "15758.666666666666"
      ]
     },
     "execution_count": 117,
     "metadata": {},
     "output_type": "execute_result"
    }
   ],
   "source": [
    "(159991 - 9709 - 63956 - 39050) / 3"
   ]
  },
  {
   "cell_type": "code",
   "execution_count": 163,
   "id": "e208ea39",
   "metadata": {},
   "outputs": [
    {
     "data": {
      "text/plain": [
       "62088"
      ]
     },
     "execution_count": 163,
     "metadata": {},
     "output_type": "execute_result"
    }
   ],
   "source": [
    "66347-4259"
   ]
  },
  {
   "cell_type": "code",
   "execution_count": 166,
   "id": "f381df11",
   "metadata": {},
   "outputs": [
    {
     "data": {
      "text/plain": [
       "23357.0"
      ]
     },
     "execution_count": 166,
     "metadata": {},
     "output_type": "execute_result"
    }
   ],
   "source": [
    "70071 / 3"
   ]
  },
  {
   "cell_type": "code",
   "execution_count": 167,
   "id": "d1d715c6",
   "metadata": {},
   "outputs": [
    {
     "data": {
      "text/plain": [
       "2840"
      ]
     },
     "execution_count": 167,
     "metadata": {},
     "output_type": "execute_result"
    }
   ],
   "source": [
    "23357 - 20517"
   ]
  },
  {
   "cell_type": "code",
   "execution_count": 149,
   "id": "438bf997",
   "metadata": {},
   "outputs": [
    {
     "data": {
      "text/plain": [
       "86863"
      ]
     },
     "execution_count": 149,
     "metadata": {},
     "output_type": "execute_result"
    }
   ],
   "source": [
    "66346 + 17053 + 3464"
   ]
  },
  {
   "cell_type": "code",
   "execution_count": 130,
   "id": "7c5f52a0",
   "metadata": {},
   "outputs": [
    {
     "data": {
      "text/plain": [
       "1812.0"
      ]
     },
     "execution_count": 130,
     "metadata": {},
     "output_type": "execute_result"
    }
   ],
   "source": [
    "(3758 - 1866 + 1732) / 2"
   ]
  },
  {
   "cell_type": "code",
   "execution_count": 131,
   "id": "83d9be63",
   "metadata": {},
   "outputs": [
    {
     "data": {
      "text/plain": [
       "2812.0"
      ]
     },
     "execution_count": 131,
     "metadata": {},
     "output_type": "execute_result"
    }
   ],
   "source": [
    "(3758 + 1866) / 2"
   ]
  },
  {
   "cell_type": "code",
   "execution_count": 12,
   "id": "a12c66bf",
   "metadata": {},
   "outputs": [
    {
     "name": "stdout",
     "output_type": "stream",
     "text": [
      "고객 가구 2은 판매 권장고객입니다.\n",
      "\n",
      "현재 사용량은 200kWh이며, 이번달 예측 사용량은 170kWh입니다.\n",
      "\n",
      "사용량 30kwh의 거래를 추천해드립니다.\n",
      "\n",
      "거래 진행 시, 고객님의 사용량은 230kWh가 되며,\n",
      "전기요금계는 19570.0원에서 25897.0원으로 6327.0원 증가합니다.\n",
      "\n",
      "\n",
      "고객 가구 1와의 거래를 추천드립니다.\n",
      "거래 진행 시, 구매자의 사용량은 390kWh가 되며,\n",
      "전기요금계는 69152.0원에서 55961.0원으로 13191.0원 감소합니다.\n",
      "\n",
      "\n",
      "거래 진행 시, 거래사용량 30kWh의 상품 가치는 6327.0원 ~ 13191.0원 입니다.\n",
      "9759.0원의 거래를 추천드립니다.\n",
      "거래 진행 시, 판매자의 예상 수익은 3432.0원 입니다.\n",
      "구매자의 수입은, 총 3432.0원 입니다.\n"
     ]
    }
   ],
   "source": [
    "# 서비스 소개 알고리즘 정리\n",
    "\n",
    "# 판매 권장 고객 ? 누진 1단계 사용 고객\n",
    "print(\"고객 {}은 판매 권장고객입니다.\\n\".format(seller.name))\n",
    "\n",
    "# 여기서 예측기가 붙을 거임\n",
    "predict_kwh = 170\n",
    "print(\"현재 사용량은 {}kWh이며, 이번달 예측 사용량은 {}kWh입니다.\\n\".format(\n",
    "    seller.kwh,\n",
    "    predict_kwh\n",
    "))\n",
    "\n",
    "# 거래 추천\n",
    "# 아마 가장 단순하게는 누진 2단계 시작 구간인 200kWh - 예측 사용량 170kWh를 빼는 형식으로 추천이 될거임\n",
    "reco_trading_kwh = 200 - predict_kwh\n",
    "print(\"사용량 {}kwh의 거래를 추천해드립니다.\\n\".format(reco_trading_kwh))\n",
    "\n",
    "# 현재 상태에서 거래를 진행했을 경우의 가격을 우선적으로 계산하겠지?\n",
    "after_seller = Household(name=\"가구 2\", kwh=seller.kwh + reco_trading_kwh).set_rate(\"단일\", \"기타\")\n",
    "print(\"거래 진행 시, 고객님의 사용량은 {}kWh가 되며,\\n\".format(after_seller.kwh)\n",
    "     + \"전기요금계는 {}원에서 {}원으로 {}원 증가합니다.\\n\\n\".format(\n",
    "         seller.basic + seller.elec_rate,\n",
    "         after_seller.basic + after_seller.elec_rate,\n",
    "         (after_seller.basic + after_seller.elec_rate) - (seller.basic + seller.elec_rate)\n",
    "     ))\n",
    "\n",
    "# 그러면 아마 이 고객이 가장 이득을 얻을 수 있는 구매자를 찾아낼 것임\n",
    "print(\"고객 {}와의 거래를 추천드립니다.\".format(buyer.name))\n",
    "# 그리고 buyer의 가격도 우선 측정하겠지?\n",
    "after_buyer = Household(name=\"가구 1\", kwh=buyer.kwh - reco_trading_kwh).set_rate(\"단일\", \"기타\")\n",
    "print(\"거래 진행 시, 구매자의 사용량은 {}kWh가 되며,\\n\".format(after_buyer.kwh)\n",
    "     + \"전기요금계는 {}원에서 {}원으로 {}원 감소합니다.\\n\\n\".format(\n",
    "         buyer.basic + buyer.elec_rate,\n",
    "         after_buyer.basic + after_buyer.elec_rate,\n",
    "         (buyer.basic + buyer.elec_rate) - (after_buyer.basic + after_buyer.elec_rate)\n",
    "     ))\n",
    "\n",
    "# 이 때 상품의 가치는 고객 2가 최소로는 받아야하는 금액 (eq. 올라간 금액만큼의 금액) 부터\n",
    "# 고객 1과의 거래 시, 최대로 요구할 수 있는 가격이 온다. (eq. 구매자에게 내려간 금액, 구매자가 지불해도 구매자가 손해를 보지 않는 금액)\n",
    "min_val = (after_seller.basic + after_seller.elec_rate) - (seller.basic + seller.elec_rate)\n",
    "max_val = (buyer.basic + buyer.elec_rate) - (after_buyer.basic + after_buyer.elec_rate)\n",
    "print(\"거래 진행 시, 거래사용량 {}kWh의 상품 가치는 {}원 ~ {}원 입니다.\".format(reco_trading_kwh, min_val, max_val))\n",
    "\n",
    "# 이 둘의 평균값이 추천 거래 금액\n",
    "reco_val = (min_val + max_val) / 2\n",
    "print(\"{}원의 거래를 추천드립니다.\".format(reco_val))\n",
    "\n",
    "# 예상 수익은 추천 금액으로 거래 진행 시, 거래 금액 - 가구 2가 올라간 본 금액이 된다.\n",
    "seller_profit = reco_val - min_val\n",
    "buyer_profit = (buyer.basic + buyer.elec_rate)\\\n",
    "                                    - (after_buyer.basic + after_buyer.elec_rate)\\\n",
    "                                   - reco_val\n",
    "\n",
    "print(\"거래 진행 시, 판매자의 예상 수익은 {}원 입니다.\".format(seller_profit))\n",
    "print(\"구매자의 수입은, 총 {}원 입니다.\".format(buyer_profit))\n",
    "\n",
    "# 서로 동등한 수익을 얻게되는 것,\n",
    "# 공용부에는 어떤 변화가 찾아올까?"
   ]
  },
  {
   "cell_type": "markdown",
   "id": "17e4c3a1",
   "metadata": {},
   "source": [
    "# Modularization"
   ]
  },
  {
   "cell_type": "code",
   "execution_count": 187,
   "id": "fc95e5a0",
   "metadata": {},
   "outputs": [
    {
     "data": {
      "text/html": [
       "<div>\n",
       "<style scoped>\n",
       "    .dataframe tbody tr th:only-of-type {\n",
       "        vertical-align: middle;\n",
       "    }\n",
       "\n",
       "    .dataframe tbody tr th {\n",
       "        vertical-align: top;\n",
       "    }\n",
       "\n",
       "    .dataframe thead th {\n",
       "        text-align: right;\n",
       "    }\n",
       "</style>\n",
       "<table border=\"1\" class=\"dataframe\">\n",
       "  <thead>\n",
       "    <tr style=\"text-align: right;\">\n",
       "      <th></th>\n",
       "      <th>name</th>\n",
       "      <th>usage (kWh)</th>\n",
       "    </tr>\n",
       "  </thead>\n",
       "  <tbody>\n",
       "    <tr>\n",
       "      <th>0</th>\n",
       "      <td>아파트1-104-1206</td>\n",
       "      <td>99</td>\n",
       "    </tr>\n",
       "    <tr>\n",
       "      <th>1</th>\n",
       "      <td>아파트1-104-303</td>\n",
       "      <td>10</td>\n",
       "    </tr>\n",
       "    <tr>\n",
       "      <th>2</th>\n",
       "      <td>아파트1-104-1307</td>\n",
       "      <td>22</td>\n",
       "    </tr>\n",
       "    <tr>\n",
       "      <th>3</th>\n",
       "      <td>아파트1-104-1208</td>\n",
       "      <td>40</td>\n",
       "    </tr>\n",
       "    <tr>\n",
       "      <th>4</th>\n",
       "      <td>아파트1-104-408</td>\n",
       "      <td>38</td>\n",
       "    </tr>\n",
       "    <tr>\n",
       "      <th>5</th>\n",
       "      <td>아파트1-104-203</td>\n",
       "      <td>197</td>\n",
       "    </tr>\n",
       "    <tr>\n",
       "      <th>6</th>\n",
       "      <td>아파트1-103-1402</td>\n",
       "      <td>217</td>\n",
       "    </tr>\n",
       "    <tr>\n",
       "      <th>7</th>\n",
       "      <td>아파트1-103-402</td>\n",
       "      <td>227</td>\n",
       "    </tr>\n",
       "    <tr>\n",
       "      <th>8</th>\n",
       "      <td>아파트1-103-1201</td>\n",
       "      <td>84</td>\n",
       "    </tr>\n",
       "    <tr>\n",
       "      <th>9</th>\n",
       "      <td>아파트1-103-801</td>\n",
       "      <td>223</td>\n",
       "    </tr>\n",
       "  </tbody>\n",
       "</table>\n",
       "</div>"
      ],
      "text/plain": [
       "            name  usage (kWh)\n",
       "0  아파트1-104-1206           99\n",
       "1   아파트1-104-303           10\n",
       "2  아파트1-104-1307           22\n",
       "3  아파트1-104-1208           40\n",
       "4   아파트1-104-408           38\n",
       "5   아파트1-104-203          197\n",
       "6  아파트1-103-1402          217\n",
       "7   아파트1-103-402          227\n",
       "8  아파트1-103-1201           84\n",
       "9   아파트1-103-801          223"
      ]
     },
     "execution_count": 187,
     "metadata": {},
     "output_type": "execute_result"
    }
   ],
   "source": [
    "from src import ParanModel\n",
    "\n",
    "file_path = \"data/meter_month/apt_1_month_1.csv\"\n",
    "pm = ParanModel(file_path)\n",
    "\n",
    "pm.datas.head(10)"
   ]
  },
  {
   "cell_type": "code",
   "execution_count": 188,
   "id": "58a21b44",
   "metadata": {
    "scrolled": false
   },
   "outputs": [
    {
     "data": {
      "text/html": [
       "<div>\n",
       "<style scoped>\n",
       "    .dataframe tbody tr th:only-of-type {\n",
       "        vertical-align: middle;\n",
       "    }\n",
       "\n",
       "    .dataframe tbody tr th {\n",
       "        vertical-align: top;\n",
       "    }\n",
       "\n",
       "    .dataframe thead th {\n",
       "        text-align: right;\n",
       "    }\n",
       "</style>\n",
       "<table border=\"1\" class=\"dataframe\">\n",
       "  <thead>\n",
       "    <tr style=\"text-align: right;\">\n",
       "      <th></th>\n",
       "      <th>name</th>\n",
       "      <th>usage (kWh)</th>\n",
       "      <th>거래 이익</th>\n",
       "      <th>구매 횟수</th>\n",
       "      <th>판매 횟수</th>\n",
       "    </tr>\n",
       "  </thead>\n",
       "  <tbody>\n",
       "    <tr>\n",
       "      <th>0</th>\n",
       "      <td>아파트1-104-1206</td>\n",
       "      <td>200</td>\n",
       "      <td>10965.3</td>\n",
       "      <td>0</td>\n",
       "      <td>1</td>\n",
       "    </tr>\n",
       "    <tr>\n",
       "      <th>1</th>\n",
       "      <td>아파트1-104-303</td>\n",
       "      <td>200</td>\n",
       "      <td>17794.0</td>\n",
       "      <td>0</td>\n",
       "      <td>1</td>\n",
       "    </tr>\n",
       "    <tr>\n",
       "      <th>2</th>\n",
       "      <td>아파트1-104-1307</td>\n",
       "      <td>200</td>\n",
       "      <td>16669.8</td>\n",
       "      <td>0</td>\n",
       "      <td>1</td>\n",
       "    </tr>\n",
       "    <tr>\n",
       "      <th>3</th>\n",
       "      <td>아파트1-104-1208</td>\n",
       "      <td>200</td>\n",
       "      <td>14914.9</td>\n",
       "      <td>0</td>\n",
       "      <td>1</td>\n",
       "    </tr>\n",
       "    <tr>\n",
       "      <th>4</th>\n",
       "      <td>아파트1-104-408</td>\n",
       "      <td>200</td>\n",
       "      <td>15611.8</td>\n",
       "      <td>0</td>\n",
       "      <td>1</td>\n",
       "    </tr>\n",
       "    <tr>\n",
       "      <th>5</th>\n",
       "      <td>아파트1-104-203</td>\n",
       "      <td>200</td>\n",
       "      <td>440.1</td>\n",
       "      <td>0</td>\n",
       "      <td>1</td>\n",
       "    </tr>\n",
       "    <tr>\n",
       "      <th>6</th>\n",
       "      <td>아파트1-103-1402</td>\n",
       "      <td>200</td>\n",
       "      <td>1149.3</td>\n",
       "      <td>1</td>\n",
       "      <td>0</td>\n",
       "    </tr>\n",
       "    <tr>\n",
       "      <th>7</th>\n",
       "      <td>아파트1-103-402</td>\n",
       "      <td>227</td>\n",
       "      <td>0.0</td>\n",
       "      <td>0</td>\n",
       "      <td>0</td>\n",
       "    </tr>\n",
       "    <tr>\n",
       "      <th>8</th>\n",
       "      <td>아파트1-103-1201</td>\n",
       "      <td>200</td>\n",
       "      <td>12694.2</td>\n",
       "      <td>0</td>\n",
       "      <td>1</td>\n",
       "    </tr>\n",
       "    <tr>\n",
       "      <th>9</th>\n",
       "      <td>아파트1-103-801</td>\n",
       "      <td>223</td>\n",
       "      <td>0.0</td>\n",
       "      <td>0</td>\n",
       "      <td>0</td>\n",
       "    </tr>\n",
       "  </tbody>\n",
       "</table>\n",
       "</div>"
      ],
      "text/plain": [
       "            name  usage (kWh)    거래 이익  구매 횟수  판매 횟수\n",
       "0  아파트1-104-1206          200  10965.3      0      1\n",
       "1   아파트1-104-303          200  17794.0      0      1\n",
       "2  아파트1-104-1307          200  16669.8      0      1\n",
       "3  아파트1-104-1208          200  14914.9      0      1\n",
       "4   아파트1-104-408          200  15611.8      0      1\n",
       "5   아파트1-104-203          200    440.1      0      1\n",
       "6  아파트1-103-1402          200   1149.3      1      0\n",
       "7   아파트1-103-402          227      0.0      0      0\n",
       "8  아파트1-103-1201          200  12694.2      0      1\n",
       "9   아파트1-103-801          223      0.0      0      0"
      ]
     },
     "execution_count": 188,
     "metadata": {},
     "output_type": "execute_result"
    }
   ],
   "source": [
    "pm.simulation()\n",
    "pm.simulation_datas.head(10)"
   ]
  },
  {
   "cell_type": "code",
   "execution_count": 190,
   "id": "3eadf1dc",
   "metadata": {},
   "outputs": [
    {
     "data": {
      "text/html": [
       "<div>\n",
       "<style scoped>\n",
       "    .dataframe tbody tr th:only-of-type {\n",
       "        vertical-align: middle;\n",
       "    }\n",
       "\n",
       "    .dataframe tbody tr th {\n",
       "        vertical-align: top;\n",
       "    }\n",
       "\n",
       "    .dataframe thead th {\n",
       "        text-align: right;\n",
       "    }\n",
       "</style>\n",
       "<table border=\"1\" class=\"dataframe\">\n",
       "  <thead>\n",
       "    <tr style=\"text-align: right;\">\n",
       "      <th></th>\n",
       "      <th>name</th>\n",
       "      <th>usage (kWh)</th>\n",
       "      <th>전기요금계</th>\n",
       "      <th>공용부 요금</th>\n",
       "      <th>최종청구금액</th>\n",
       "    </tr>\n",
       "  </thead>\n",
       "  <tbody>\n",
       "    <tr>\n",
       "      <th>0</th>\n",
       "      <td>아파트1-104-1206</td>\n",
       "      <td>99</td>\n",
       "      <td>10147</td>\n",
       "      <td>26959</td>\n",
       "      <td>37106</td>\n",
       "    </tr>\n",
       "    <tr>\n",
       "      <th>1</th>\n",
       "      <td>아파트1-104-303</td>\n",
       "      <td>10</td>\n",
       "      <td>1843</td>\n",
       "      <td>26959</td>\n",
       "      <td>28802</td>\n",
       "    </tr>\n",
       "    <tr>\n",
       "      <th>2</th>\n",
       "      <td>아파트1-104-1307</td>\n",
       "      <td>22</td>\n",
       "      <td>2963</td>\n",
       "      <td>26959</td>\n",
       "      <td>29922</td>\n",
       "    </tr>\n",
       "    <tr>\n",
       "      <th>3</th>\n",
       "      <td>아파트1-104-1208</td>\n",
       "      <td>40</td>\n",
       "      <td>4642</td>\n",
       "      <td>26959</td>\n",
       "      <td>31601</td>\n",
       "    </tr>\n",
       "    <tr>\n",
       "      <th>4</th>\n",
       "      <td>아파트1-104-408</td>\n",
       "      <td>38</td>\n",
       "      <td>4455</td>\n",
       "      <td>26959</td>\n",
       "      <td>31414</td>\n",
       "    </tr>\n",
       "    <tr>\n",
       "      <th>5</th>\n",
       "      <td>아파트1-104-203</td>\n",
       "      <td>197</td>\n",
       "      <td>19290</td>\n",
       "      <td>26959</td>\n",
       "      <td>46249</td>\n",
       "    </tr>\n",
       "    <tr>\n",
       "      <th>6</th>\n",
       "      <td>아파트1-103-1402</td>\n",
       "      <td>217</td>\n",
       "      <td>23454</td>\n",
       "      <td>26959</td>\n",
       "      <td>50413</td>\n",
       "    </tr>\n",
       "    <tr>\n",
       "      <th>7</th>\n",
       "      <td>아파트1-103-402</td>\n",
       "      <td>227</td>\n",
       "      <td>25333</td>\n",
       "      <td>26959</td>\n",
       "      <td>52292</td>\n",
       "    </tr>\n",
       "    <tr>\n",
       "      <th>8</th>\n",
       "      <td>아파트1-103-1201</td>\n",
       "      <td>84</td>\n",
       "      <td>8747</td>\n",
       "      <td>26959</td>\n",
       "      <td>35706</td>\n",
       "    </tr>\n",
       "    <tr>\n",
       "      <th>9</th>\n",
       "      <td>아파트1-103-801</td>\n",
       "      <td>223</td>\n",
       "      <td>24582</td>\n",
       "      <td>26959</td>\n",
       "      <td>51541</td>\n",
       "    </tr>\n",
       "  </tbody>\n",
       "</table>\n",
       "</div>"
      ],
      "text/plain": [
       "            name  usage (kWh)  전기요금계  공용부 요금 최종청구금액\n",
       "0  아파트1-104-1206           99  10147   26959  37106\n",
       "1   아파트1-104-303           10   1843   26959  28802\n",
       "2  아파트1-104-1307           22   2963   26959  29922\n",
       "3  아파트1-104-1208           40   4642   26959  31601\n",
       "4   아파트1-104-408           38   4455   26959  31414\n",
       "5   아파트1-104-203          197  19290   26959  46249\n",
       "6  아파트1-103-1402          217  23454   26959  50413\n",
       "7   아파트1-103-402          227  25333   26959  52292\n",
       "8  아파트1-103-1201           84   8747   26959  35706\n",
       "9   아파트1-103-801          223  24582   26959  51541"
      ]
     },
     "execution_count": 190,
     "metadata": {},
     "output_type": "execute_result"
    }
   ],
   "source": [
    "og_datas, sim_datas, com_datas = pm.simulation_public()\n",
    "og_datas.head(10)"
   ]
  },
  {
   "cell_type": "code",
   "execution_count": 191,
   "id": "cc8124d5",
   "metadata": {},
   "outputs": [
    {
     "data": {
      "text/html": [
       "<div>\n",
       "<style scoped>\n",
       "    .dataframe tbody tr th:only-of-type {\n",
       "        vertical-align: middle;\n",
       "    }\n",
       "\n",
       "    .dataframe tbody tr th {\n",
       "        vertical-align: top;\n",
       "    }\n",
       "\n",
       "    .dataframe thead th {\n",
       "        text-align: right;\n",
       "    }\n",
       "</style>\n",
       "<table border=\"1\" class=\"dataframe\">\n",
       "  <thead>\n",
       "    <tr style=\"text-align: right;\">\n",
       "      <th></th>\n",
       "      <th>name</th>\n",
       "      <th>usage (kWh)</th>\n",
       "      <th>전기요금계</th>\n",
       "      <th>공용부 요금</th>\n",
       "      <th>최종청구금액</th>\n",
       "    </tr>\n",
       "  </thead>\n",
       "  <tbody>\n",
       "    <tr>\n",
       "      <th>0</th>\n",
       "      <td>아파트1-104-1206</td>\n",
       "      <td>99</td>\n",
       "      <td>-819</td>\n",
       "      <td>30079</td>\n",
       "      <td>29260</td>\n",
       "    </tr>\n",
       "    <tr>\n",
       "      <th>1</th>\n",
       "      <td>아파트1-104-303</td>\n",
       "      <td>10</td>\n",
       "      <td>-15951</td>\n",
       "      <td>30079</td>\n",
       "      <td>14128</td>\n",
       "    </tr>\n",
       "    <tr>\n",
       "      <th>2</th>\n",
       "      <td>아파트1-104-1307</td>\n",
       "      <td>22</td>\n",
       "      <td>-13707</td>\n",
       "      <td>30079</td>\n",
       "      <td>16372</td>\n",
       "    </tr>\n",
       "    <tr>\n",
       "      <th>3</th>\n",
       "      <td>아파트1-104-1208</td>\n",
       "      <td>40</td>\n",
       "      <td>-10273</td>\n",
       "      <td>30079</td>\n",
       "      <td>19806</td>\n",
       "    </tr>\n",
       "    <tr>\n",
       "      <th>4</th>\n",
       "      <td>아파트1-104-408</td>\n",
       "      <td>38</td>\n",
       "      <td>-11156</td>\n",
       "      <td>30079</td>\n",
       "      <td>18923</td>\n",
       "    </tr>\n",
       "    <tr>\n",
       "      <th>5</th>\n",
       "      <td>아파트1-104-203</td>\n",
       "      <td>197</td>\n",
       "      <td>18850</td>\n",
       "      <td>30079</td>\n",
       "      <td>48929</td>\n",
       "    </tr>\n",
       "    <tr>\n",
       "      <th>6</th>\n",
       "      <td>아파트1-103-1402</td>\n",
       "      <td>217</td>\n",
       "      <td>22305</td>\n",
       "      <td>30079</td>\n",
       "      <td>52384</td>\n",
       "    </tr>\n",
       "    <tr>\n",
       "      <th>7</th>\n",
       "      <td>아파트1-103-402</td>\n",
       "      <td>227</td>\n",
       "      <td>25333</td>\n",
       "      <td>30079</td>\n",
       "      <td>55412</td>\n",
       "    </tr>\n",
       "    <tr>\n",
       "      <th>8</th>\n",
       "      <td>아파트1-103-1201</td>\n",
       "      <td>84</td>\n",
       "      <td>-3947</td>\n",
       "      <td>30079</td>\n",
       "      <td>26132</td>\n",
       "    </tr>\n",
       "    <tr>\n",
       "      <th>9</th>\n",
       "      <td>아파트1-103-801</td>\n",
       "      <td>223</td>\n",
       "      <td>24582</td>\n",
       "      <td>30079</td>\n",
       "      <td>54661</td>\n",
       "    </tr>\n",
       "  </tbody>\n",
       "</table>\n",
       "</div>"
      ],
      "text/plain": [
       "            name  usage (kWh)  전기요금계  공용부 요금 최종청구금액\n",
       "0  아파트1-104-1206           99   -819   30079  29260\n",
       "1   아파트1-104-303           10 -15951   30079  14128\n",
       "2  아파트1-104-1307           22 -13707   30079  16372\n",
       "3  아파트1-104-1208           40 -10273   30079  19806\n",
       "4   아파트1-104-408           38 -11156   30079  18923\n",
       "5   아파트1-104-203          197  18850   30079  48929\n",
       "6  아파트1-103-1402          217  22305   30079  52384\n",
       "7   아파트1-103-402          227  25333   30079  55412\n",
       "8  아파트1-103-1201           84  -3947   30079  26132\n",
       "9   아파트1-103-801          223  24582   30079  54661"
      ]
     },
     "execution_count": 191,
     "metadata": {},
     "output_type": "execute_result"
    }
   ],
   "source": [
    "sim_datas.head(10)"
   ]
  },
  {
   "cell_type": "code",
   "execution_count": 192,
   "id": "fb27daac",
   "metadata": {},
   "outputs": [
    {
     "data": {
      "text/html": [
       "<div>\n",
       "<style scoped>\n",
       "    .dataframe tbody tr th:only-of-type {\n",
       "        vertical-align: middle;\n",
       "    }\n",
       "\n",
       "    .dataframe tbody tr th {\n",
       "        vertical-align: top;\n",
       "    }\n",
       "\n",
       "    .dataframe thead th {\n",
       "        text-align: right;\n",
       "    }\n",
       "</style>\n",
       "<table border=\"1\" class=\"dataframe\">\n",
       "  <thead>\n",
       "    <tr style=\"text-align: right;\">\n",
       "      <th></th>\n",
       "      <th>name</th>\n",
       "      <th>usage (kWh)</th>\n",
       "      <th>거래 전 요금</th>\n",
       "      <th>거래 후 요금</th>\n",
       "      <th>오차</th>\n",
       "    </tr>\n",
       "  </thead>\n",
       "  <tbody>\n",
       "    <tr>\n",
       "      <th>0</th>\n",
       "      <td>아파트1-104-1206</td>\n",
       "      <td>99</td>\n",
       "      <td>37106</td>\n",
       "      <td>29260</td>\n",
       "      <td>-7846</td>\n",
       "    </tr>\n",
       "    <tr>\n",
       "      <th>1</th>\n",
       "      <td>아파트1-104-303</td>\n",
       "      <td>10</td>\n",
       "      <td>28802</td>\n",
       "      <td>14128</td>\n",
       "      <td>-14674</td>\n",
       "    </tr>\n",
       "    <tr>\n",
       "      <th>2</th>\n",
       "      <td>아파트1-104-1307</td>\n",
       "      <td>22</td>\n",
       "      <td>29922</td>\n",
       "      <td>16372</td>\n",
       "      <td>-13550</td>\n",
       "    </tr>\n",
       "    <tr>\n",
       "      <th>3</th>\n",
       "      <td>아파트1-104-1208</td>\n",
       "      <td>40</td>\n",
       "      <td>31601</td>\n",
       "      <td>19806</td>\n",
       "      <td>-11795</td>\n",
       "    </tr>\n",
       "    <tr>\n",
       "      <th>4</th>\n",
       "      <td>아파트1-104-408</td>\n",
       "      <td>38</td>\n",
       "      <td>31414</td>\n",
       "      <td>18923</td>\n",
       "      <td>-12491</td>\n",
       "    </tr>\n",
       "    <tr>\n",
       "      <th>5</th>\n",
       "      <td>아파트1-104-203</td>\n",
       "      <td>197</td>\n",
       "      <td>46249</td>\n",
       "      <td>48929</td>\n",
       "      <td>2680</td>\n",
       "    </tr>\n",
       "    <tr>\n",
       "      <th>6</th>\n",
       "      <td>아파트1-103-1402</td>\n",
       "      <td>217</td>\n",
       "      <td>50413</td>\n",
       "      <td>52384</td>\n",
       "      <td>1971</td>\n",
       "    </tr>\n",
       "    <tr>\n",
       "      <th>7</th>\n",
       "      <td>아파트1-103-402</td>\n",
       "      <td>227</td>\n",
       "      <td>52292</td>\n",
       "      <td>55412</td>\n",
       "      <td>3120</td>\n",
       "    </tr>\n",
       "    <tr>\n",
       "      <th>8</th>\n",
       "      <td>아파트1-103-1201</td>\n",
       "      <td>84</td>\n",
       "      <td>35706</td>\n",
       "      <td>26132</td>\n",
       "      <td>-9574</td>\n",
       "    </tr>\n",
       "    <tr>\n",
       "      <th>9</th>\n",
       "      <td>아파트1-103-801</td>\n",
       "      <td>223</td>\n",
       "      <td>51541</td>\n",
       "      <td>54661</td>\n",
       "      <td>3120</td>\n",
       "    </tr>\n",
       "  </tbody>\n",
       "</table>\n",
       "</div>"
      ],
      "text/plain": [
       "            name  usage (kWh) 거래 전 요금 거래 후 요금      오차\n",
       "0  아파트1-104-1206           99   37106   29260   -7846\n",
       "1   아파트1-104-303           10   28802   14128  -14674\n",
       "2  아파트1-104-1307           22   29922   16372  -13550\n",
       "3  아파트1-104-1208           40   31601   19806  -11795\n",
       "4   아파트1-104-408           38   31414   18923  -12491\n",
       "5   아파트1-104-203          197   46249   48929    2680\n",
       "6  아파트1-103-1402          217   50413   52384    1971\n",
       "7   아파트1-103-402          227   52292   55412    3120\n",
       "8  아파트1-103-1201           84   35706   26132   -9574\n",
       "9   아파트1-103-801          223   51541   54661    3120"
      ]
     },
     "execution_count": 192,
     "metadata": {},
     "output_type": "execute_result"
    }
   ],
   "source": [
    "com_datas.head(10)"
   ]
  },
  {
   "cell_type": "code",
   "execution_count": 28,
   "id": "82015c3e",
   "metadata": {},
   "outputs": [
    {
     "data": {
      "text/html": [
       "<div>\n",
       "<style scoped>\n",
       "    .dataframe tbody tr th:only-of-type {\n",
       "        vertical-align: middle;\n",
       "    }\n",
       "\n",
       "    .dataframe tbody tr th {\n",
       "        vertical-align: top;\n",
       "    }\n",
       "\n",
       "    .dataframe thead th {\n",
       "        text-align: right;\n",
       "    }\n",
       "</style>\n",
       "<table border=\"1\" class=\"dataframe\">\n",
       "  <thead>\n",
       "    <tr style=\"text-align: right;\">\n",
       "      <th></th>\n",
       "      <th>거래 전</th>\n",
       "      <th>거래 후</th>\n",
       "      <th>오차</th>\n",
       "    </tr>\n",
       "  </thead>\n",
       "  <tbody>\n",
       "    <tr>\n",
       "      <th>세대부 총 가격</th>\n",
       "      <td>4284100</td>\n",
       "      <td>3947097</td>\n",
       "      <td>-337002</td>\n",
       "    </tr>\n",
       "    <tr>\n",
       "      <th>공용부 총 가격</th>\n",
       "      <td>2911572</td>\n",
       "      <td>3248575</td>\n",
       "      <td>337002</td>\n",
       "    </tr>\n",
       "    <tr>\n",
       "      <th>한 가구 당 공용부 총 가격</th>\n",
       "      <td>26959</td>\n",
       "      <td>30079</td>\n",
       "      <td>3120</td>\n",
       "    </tr>\n",
       "  </tbody>\n",
       "</table>\n",
       "</div>"
      ],
      "text/plain": [
       "                    거래 전     거래 후      오차\n",
       "세대부 총 가격         4284100  3947097 -337002\n",
       "공용부 총 가격         2911572  3248575  337002\n",
       "한 가구 당 공용부 총 가격    26959    30079    3120"
      ]
     },
     "execution_count": 28,
     "metadata": {},
     "output_type": "execute_result"
    }
   ],
   "source": [
    "pm.simulation_result()"
   ]
  },
  {
   "cell_type": "markdown",
   "id": "0768b0d0",
   "metadata": {},
   "source": [
    "## 이 상태에서 공용부 가격분배가 붙는다면?"
   ]
  },
  {
   "cell_type": "code",
   "execution_count": 175,
   "id": "85fdafbb",
   "metadata": {},
   "outputs": [
    {
     "data": {
      "text/html": [
       "<div>\n",
       "<style scoped>\n",
       "    .dataframe tbody tr th:only-of-type {\n",
       "        vertical-align: middle;\n",
       "    }\n",
       "\n",
       "    .dataframe tbody tr th {\n",
       "        vertical-align: top;\n",
       "    }\n",
       "\n",
       "    .dataframe thead th {\n",
       "        text-align: right;\n",
       "    }\n",
       "</style>\n",
       "<table border=\"1\" class=\"dataframe\">\n",
       "  <thead>\n",
       "    <tr style=\"text-align: right;\">\n",
       "      <th></th>\n",
       "      <th>가구명</th>\n",
       "      <th>공용부요금</th>\n",
       "      <th>기여도</th>\n",
       "      <th>기여도 기본요금</th>\n",
       "      <th>기여도 전력량요금</th>\n",
       "      <th>나머지 요금</th>\n",
       "      <th>기여도 요금</th>\n",
       "      <th>오차</th>\n",
       "    </tr>\n",
       "  </thead>\n",
       "  <tbody>\n",
       "    <tr>\n",
       "      <th>0</th>\n",
       "      <td>아파트1-104-1206</td>\n",
       "      <td>26959</td>\n",
       "      <td>0.030606</td>\n",
       "      <td>154.0</td>\n",
       "      <td>671.0</td>\n",
       "      <td>22975.009259</td>\n",
       "      <td>23800.0</td>\n",
       "      <td>3159.0</td>\n",
       "    </tr>\n",
       "    <tr>\n",
       "      <th>5</th>\n",
       "      <td>아파트1-104-203</td>\n",
       "      <td>26959</td>\n",
       "      <td>0.081629</td>\n",
       "      <td>411.0</td>\n",
       "      <td>1790.0</td>\n",
       "      <td>22975.009259</td>\n",
       "      <td>25176.0</td>\n",
       "      <td>1783.0</td>\n",
       "    </tr>\n",
       "    <tr>\n",
       "      <th>6</th>\n",
       "      <td>아파트1-103-1402</td>\n",
       "      <td>26959</td>\n",
       "      <td>0.132652</td>\n",
       "      <td>668.0</td>\n",
       "      <td>2908.0</td>\n",
       "      <td>22975.009259</td>\n",
       "      <td>26551.0</td>\n",
       "      <td>408.0</td>\n",
       "    </tr>\n",
       "    <tr>\n",
       "      <th>11</th>\n",
       "      <td>아파트1-103-1602</td>\n",
       "      <td>26959</td>\n",
       "      <td>0.183674</td>\n",
       "      <td>925.0</td>\n",
       "      <td>4027.0</td>\n",
       "      <td>22975.009259</td>\n",
       "      <td>27927.0</td>\n",
       "      <td>-968.0</td>\n",
       "    </tr>\n",
       "    <tr>\n",
       "      <th>20</th>\n",
       "      <td>아파트1-102-403</td>\n",
       "      <td>26959</td>\n",
       "      <td>0.234697</td>\n",
       "      <td>1182.0</td>\n",
       "      <td>5145.0</td>\n",
       "      <td>22975.009259</td>\n",
       "      <td>29302.0</td>\n",
       "      <td>-2343.0</td>\n",
       "    </tr>\n",
       "    <tr>\n",
       "      <th>15</th>\n",
       "      <td>아파트1-102-903</td>\n",
       "      <td>26959</td>\n",
       "      <td>0.336742</td>\n",
       "      <td>1696.0</td>\n",
       "      <td>7382.0</td>\n",
       "      <td>22975.009259</td>\n",
       "      <td>32053.0</td>\n",
       "      <td>-5094.0</td>\n",
       "    </tr>\n",
       "  </tbody>\n",
       "</table>\n",
       "</div>"
      ],
      "text/plain": [
       "              가구명  공용부요금       기여도 기여도 기본요금 기여도 전력량요금        나머지 요금   기여도 요금  \\\n",
       "0   아파트1-104-1206  26959  0.030606    154.0     671.0  22975.009259  23800.0   \n",
       "5    아파트1-104-203  26959  0.081629    411.0    1790.0  22975.009259  25176.0   \n",
       "6   아파트1-103-1402  26959  0.132652    668.0    2908.0  22975.009259  26551.0   \n",
       "11  아파트1-103-1602  26959  0.183674    925.0    4027.0  22975.009259  27927.0   \n",
       "20   아파트1-102-403  26959  0.234697   1182.0    5145.0  22975.009259  29302.0   \n",
       "15   아파트1-102-903  26959  0.336742   1696.0    7382.0  22975.009259  32053.0   \n",
       "\n",
       "        오차  \n",
       "0   3159.0  \n",
       "5   1783.0  \n",
       "6    408.0  \n",
       "11  -968.0  \n",
       "20 -2343.0  \n",
       "15 -5094.0  "
      ]
     },
     "execution_count": 175,
     "metadata": {},
     "output_type": "execute_result"
    }
   ],
   "source": [
    "from src import GroupDistributor\n",
    "\n",
    "dist = GroupDistributor(file_path).set_init_csv(1)\n",
    "dist.set_calc(public_percentage=30)\n",
    "dist.set_cont()\n",
    "\n",
    "dist_df = dist.distribute_table()\n",
    "dist_df.drop_duplicates('기여도').sort_values(['기여도'])"
   ]
  },
  {
   "cell_type": "code",
   "execution_count": 176,
   "id": "c3cc0ce7",
   "metadata": {},
   "outputs": [
    {
     "data": {
      "text/html": [
       "<div>\n",
       "<style scoped>\n",
       "    .dataframe tbody tr th:only-of-type {\n",
       "        vertical-align: middle;\n",
       "    }\n",
       "\n",
       "    .dataframe tbody tr th {\n",
       "        vertical-align: top;\n",
       "    }\n",
       "\n",
       "    .dataframe thead th {\n",
       "        text-align: right;\n",
       "    }\n",
       "</style>\n",
       "<table border=\"1\" class=\"dataframe\">\n",
       "  <thead>\n",
       "    <tr style=\"text-align: right;\">\n",
       "      <th></th>\n",
       "      <th>가구명</th>\n",
       "      <th>공용부요금</th>\n",
       "      <th>기여도</th>\n",
       "      <th>기여도 기본요금</th>\n",
       "      <th>기여도 전력량요금</th>\n",
       "      <th>나머지 요금</th>\n",
       "      <th>기여도 요금</th>\n",
       "      <th>오차</th>\n",
       "    </tr>\n",
       "  </thead>\n",
       "  <tbody>\n",
       "    <tr>\n",
       "      <th>0</th>\n",
       "      <td>아파트1-104-1206</td>\n",
       "      <td>30079</td>\n",
       "      <td>0.091419</td>\n",
       "      <td>460.0</td>\n",
       "      <td>2004.0</td>\n",
       "      <td>26861.237963</td>\n",
       "      <td>29325.0</td>\n",
       "      <td>754.0</td>\n",
       "    </tr>\n",
       "    <tr>\n",
       "      <th>14</th>\n",
       "      <td>아파트1-103-202</td>\n",
       "      <td>30079</td>\n",
       "      <td>0.119637</td>\n",
       "      <td>602.0</td>\n",
       "      <td>2623.0</td>\n",
       "      <td>26861.237963</td>\n",
       "      <td>30086.0</td>\n",
       "      <td>-7.0</td>\n",
       "    </tr>\n",
       "    <tr>\n",
       "      <th>11</th>\n",
       "      <td>아파트1-103-1602</td>\n",
       "      <td>30079</td>\n",
       "      <td>0.147855</td>\n",
       "      <td>745.0</td>\n",
       "      <td>3241.0</td>\n",
       "      <td>26861.237963</td>\n",
       "      <td>30847.0</td>\n",
       "      <td>-768.0</td>\n",
       "    </tr>\n",
       "    <tr>\n",
       "      <th>20</th>\n",
       "      <td>아파트1-102-403</td>\n",
       "      <td>30079</td>\n",
       "      <td>0.176073</td>\n",
       "      <td>887.0</td>\n",
       "      <td>3860.0</td>\n",
       "      <td>26861.237963</td>\n",
       "      <td>31608.0</td>\n",
       "      <td>-1529.0</td>\n",
       "    </tr>\n",
       "    <tr>\n",
       "      <th>62</th>\n",
       "      <td>아파트1-103-703</td>\n",
       "      <td>30079</td>\n",
       "      <td>0.204291</td>\n",
       "      <td>1029.0</td>\n",
       "      <td>4479.0</td>\n",
       "      <td>26861.237963</td>\n",
       "      <td>32369.0</td>\n",
       "      <td>-2290.0</td>\n",
       "    </tr>\n",
       "    <tr>\n",
       "      <th>15</th>\n",
       "      <td>아파트1-102-903</td>\n",
       "      <td>30079</td>\n",
       "      <td>0.260727</td>\n",
       "      <td>1313.0</td>\n",
       "      <td>5716.0</td>\n",
       "      <td>26861.237963</td>\n",
       "      <td>33890.0</td>\n",
       "      <td>-3811.0</td>\n",
       "    </tr>\n",
       "  </tbody>\n",
       "</table>\n",
       "</div>"
      ],
      "text/plain": [
       "              가구명  공용부요금       기여도 기여도 기본요금 기여도 전력량요금        나머지 요금   기여도 요금  \\\n",
       "0   아파트1-104-1206  30079  0.091419    460.0    2004.0  26861.237963  29325.0   \n",
       "14   아파트1-103-202  30079  0.119637    602.0    2623.0  26861.237963  30086.0   \n",
       "11  아파트1-103-1602  30079  0.147855    745.0    3241.0  26861.237963  30847.0   \n",
       "20   아파트1-102-403  30079  0.176073    887.0    3860.0  26861.237963  31608.0   \n",
       "62   아파트1-103-703  30079  0.204291   1029.0    4479.0  26861.237963  32369.0   \n",
       "15   아파트1-102-903  30079  0.260727   1313.0    5716.0  26861.237963  33890.0   \n",
       "\n",
       "        오차  \n",
       "0    754.0  \n",
       "14    -7.0  \n",
       "11  -768.0  \n",
       "20 -1529.0  \n",
       "62 -2290.0  \n",
       "15 -3811.0  "
      ]
     },
     "execution_count": 176,
     "metadata": {},
     "output_type": "execute_result"
    }
   ],
   "source": [
    "dist.inject_trader(pm)\n",
    "dist.set_calc(public_percentage=30)\n",
    "dist.set_cont()\n",
    "\n",
    "dist_df = dist.distribute_table()\n",
    "dist_df.drop_duplicates('기여도').sort_values(['기여도'])"
   ]
  },
  {
   "cell_type": "code",
   "execution_count": 180,
   "id": "b2f2bb60",
   "metadata": {},
   "outputs": [
    {
     "data": {
      "text/html": [
       "<div>\n",
       "<style scoped>\n",
       "    .dataframe tbody tr th:only-of-type {\n",
       "        vertical-align: middle;\n",
       "    }\n",
       "\n",
       "    .dataframe tbody tr th {\n",
       "        vertical-align: top;\n",
       "    }\n",
       "\n",
       "    .dataframe thead th {\n",
       "        text-align: right;\n",
       "    }\n",
       "</style>\n",
       "<table border=\"1\" class=\"dataframe\">\n",
       "  <thead>\n",
       "    <tr style=\"text-align: right;\">\n",
       "      <th></th>\n",
       "      <th>가구명</th>\n",
       "      <th>공용부요금</th>\n",
       "      <th>기여도</th>\n",
       "      <th>기여도 기본요금</th>\n",
       "      <th>기여도 전력량요금</th>\n",
       "      <th>나머지 요금</th>\n",
       "      <th>기여도 요금</th>\n",
       "      <th>오차</th>\n",
       "    </tr>\n",
       "  </thead>\n",
       "  <tbody>\n",
       "    <tr>\n",
       "      <th>0</th>\n",
       "      <td>아파트1-104-1206</td>\n",
       "      <td>26959</td>\n",
       "      <td>0.0</td>\n",
       "      <td>0.0</td>\n",
       "      <td>0.0</td>\n",
       "      <td>16640.824074</td>\n",
       "      <td>16641.0</td>\n",
       "      <td>10318.0</td>\n",
       "    </tr>\n",
       "    <tr>\n",
       "      <th>5</th>\n",
       "      <td>아파트1-104-203</td>\n",
       "      <td>26959</td>\n",
       "      <td>0.166667</td>\n",
       "      <td>839.0</td>\n",
       "      <td>3654.0</td>\n",
       "      <td>16640.824074</td>\n",
       "      <td>21134.0</td>\n",
       "      <td>5825.0</td>\n",
       "    </tr>\n",
       "    <tr>\n",
       "      <th>6</th>\n",
       "      <td>아파트1-103-1402</td>\n",
       "      <td>26959</td>\n",
       "      <td>0.333333</td>\n",
       "      <td>1679.0</td>\n",
       "      <td>7308.0</td>\n",
       "      <td>16640.824074</td>\n",
       "      <td>25628.0</td>\n",
       "      <td>1331.0</td>\n",
       "    </tr>\n",
       "    <tr>\n",
       "      <th>11</th>\n",
       "      <td>아파트1-103-1602</td>\n",
       "      <td>26959</td>\n",
       "      <td>0.5</td>\n",
       "      <td>2518.0</td>\n",
       "      <td>10962.0</td>\n",
       "      <td>16640.824074</td>\n",
       "      <td>30121.0</td>\n",
       "      <td>-3162.0</td>\n",
       "    </tr>\n",
       "    <tr>\n",
       "      <th>20</th>\n",
       "      <td>아파트1-102-403</td>\n",
       "      <td>26959</td>\n",
       "      <td>0.666667</td>\n",
       "      <td>3357.0</td>\n",
       "      <td>14615.0</td>\n",
       "      <td>16640.824074</td>\n",
       "      <td>34613.0</td>\n",
       "      <td>-7654.0</td>\n",
       "    </tr>\n",
       "    <tr>\n",
       "      <th>15</th>\n",
       "      <td>아파트1-102-903</td>\n",
       "      <td>26959</td>\n",
       "      <td>1.0</td>\n",
       "      <td>5036.0</td>\n",
       "      <td>21923.0</td>\n",
       "      <td>16640.824074</td>\n",
       "      <td>43600.0</td>\n",
       "      <td>-16641.0</td>\n",
       "    </tr>\n",
       "  </tbody>\n",
       "</table>\n",
       "</div>"
      ],
      "text/plain": [
       "              가구명  공용부요금       기여도 기여도 기본요금 기여도 전력량요금        나머지 요금   기여도 요금  \\\n",
       "0   아파트1-104-1206  26959       0.0      0.0       0.0  16640.824074  16641.0   \n",
       "5    아파트1-104-203  26959  0.166667    839.0    3654.0  16640.824074  21134.0   \n",
       "6   아파트1-103-1402  26959  0.333333   1679.0    7308.0  16640.824074  25628.0   \n",
       "11  아파트1-103-1602  26959       0.5   2518.0   10962.0  16640.824074  30121.0   \n",
       "20   아파트1-102-403  26959  0.666667   3357.0   14615.0  16640.824074  34613.0   \n",
       "15   아파트1-102-903  26959       1.0   5036.0   21923.0  16640.824074  43600.0   \n",
       "\n",
       "         오차  \n",
       "0   10318.0  \n",
       "5    5825.0  \n",
       "6    1331.0  \n",
       "11  -3162.0  \n",
       "20  -7654.0  \n",
       "15 -16641.0  "
      ]
     },
     "execution_count": 180,
     "metadata": {},
     "output_type": "execute_result"
    }
   ],
   "source": [
    "from src.utils import min_max_normalization\n",
    "\n",
    "dist = GroupDistributor(file_path).set_init_csv(1)\n",
    "dist.set_calc(public_percentage=30)\n",
    "dist.set_cont(norm=min_max_normalization)\n",
    "\n",
    "dist_df = dist.distribute_table()\n",
    "dist_df.drop_duplicates('기여도').sort_values(['기여도'])"
   ]
  },
  {
   "cell_type": "code",
   "execution_count": 181,
   "id": "595038ce",
   "metadata": {},
   "outputs": [
    {
     "data": {
      "text/html": [
       "<div>\n",
       "<style scoped>\n",
       "    .dataframe tbody tr th:only-of-type {\n",
       "        vertical-align: middle;\n",
       "    }\n",
       "\n",
       "    .dataframe tbody tr th {\n",
       "        vertical-align: top;\n",
       "    }\n",
       "\n",
       "    .dataframe thead th {\n",
       "        text-align: right;\n",
       "    }\n",
       "</style>\n",
       "<table border=\"1\" class=\"dataframe\">\n",
       "  <thead>\n",
       "    <tr style=\"text-align: right;\">\n",
       "      <th></th>\n",
       "      <th>가구명</th>\n",
       "      <th>공용부요금</th>\n",
       "      <th>기여도</th>\n",
       "      <th>기여도 기본요금</th>\n",
       "      <th>기여도 전력량요금</th>\n",
       "      <th>나머지 요금</th>\n",
       "      <th>기여도 요금</th>\n",
       "      <th>오차</th>\n",
       "    </tr>\n",
       "  </thead>\n",
       "  <tbody>\n",
       "    <tr>\n",
       "      <th>0</th>\n",
       "      <td>아파트1-104-1206</td>\n",
       "      <td>30079</td>\n",
       "      <td>0.0</td>\n",
       "      <td>0.0</td>\n",
       "      <td>0.0</td>\n",
       "      <td>25627.497222</td>\n",
       "      <td>25627.0</td>\n",
       "      <td>4452.0</td>\n",
       "    </tr>\n",
       "    <tr>\n",
       "      <th>14</th>\n",
       "      <td>아파트1-103-202</td>\n",
       "      <td>30079</td>\n",
       "      <td>0.166667</td>\n",
       "      <td>839.0</td>\n",
       "      <td>3654.0</td>\n",
       "      <td>25627.497222</td>\n",
       "      <td>30120.0</td>\n",
       "      <td>-41.0</td>\n",
       "    </tr>\n",
       "    <tr>\n",
       "      <th>11</th>\n",
       "      <td>아파트1-103-1602</td>\n",
       "      <td>30079</td>\n",
       "      <td>0.333333</td>\n",
       "      <td>1679.0</td>\n",
       "      <td>7308.0</td>\n",
       "      <td>25627.497222</td>\n",
       "      <td>34614.0</td>\n",
       "      <td>-4535.0</td>\n",
       "    </tr>\n",
       "    <tr>\n",
       "      <th>20</th>\n",
       "      <td>아파트1-102-403</td>\n",
       "      <td>30079</td>\n",
       "      <td>0.5</td>\n",
       "      <td>2518.0</td>\n",
       "      <td>10962.0</td>\n",
       "      <td>25627.497222</td>\n",
       "      <td>39107.0</td>\n",
       "      <td>-9028.0</td>\n",
       "    </tr>\n",
       "    <tr>\n",
       "      <th>62</th>\n",
       "      <td>아파트1-103-703</td>\n",
       "      <td>30079</td>\n",
       "      <td>0.666667</td>\n",
       "      <td>3357.0</td>\n",
       "      <td>14615.0</td>\n",
       "      <td>25627.497222</td>\n",
       "      <td>43599.0</td>\n",
       "      <td>-13520.0</td>\n",
       "    </tr>\n",
       "    <tr>\n",
       "      <th>15</th>\n",
       "      <td>아파트1-102-903</td>\n",
       "      <td>30079</td>\n",
       "      <td>1.0</td>\n",
       "      <td>5036.0</td>\n",
       "      <td>21923.0</td>\n",
       "      <td>25627.497222</td>\n",
       "      <td>52586.0</td>\n",
       "      <td>-22507.0</td>\n",
       "    </tr>\n",
       "  </tbody>\n",
       "</table>\n",
       "</div>"
      ],
      "text/plain": [
       "              가구명  공용부요금       기여도 기여도 기본요금 기여도 전력량요금        나머지 요금   기여도 요금  \\\n",
       "0   아파트1-104-1206  30079       0.0      0.0       0.0  25627.497222  25627.0   \n",
       "14   아파트1-103-202  30079  0.166667    839.0    3654.0  25627.497222  30120.0   \n",
       "11  아파트1-103-1602  30079  0.333333   1679.0    7308.0  25627.497222  34614.0   \n",
       "20   아파트1-102-403  30079       0.5   2518.0   10962.0  25627.497222  39107.0   \n",
       "62   아파트1-103-703  30079  0.666667   3357.0   14615.0  25627.497222  43599.0   \n",
       "15   아파트1-102-903  30079       1.0   5036.0   21923.0  25627.497222  52586.0   \n",
       "\n",
       "         오차  \n",
       "0    4452.0  \n",
       "14    -41.0  \n",
       "11  -4535.0  \n",
       "20  -9028.0  \n",
       "62 -13520.0  \n",
       "15 -22507.0  "
      ]
     },
     "execution_count": 181,
     "metadata": {},
     "output_type": "execute_result"
    }
   ],
   "source": [
    "dist.inject_trader(pm)\n",
    "dist.set_calc(public_percentage=30)\n",
    "dist.set_cont(norm=min_max_normalization)\n",
    "\n",
    "dist_df = dist.distribute_table()\n",
    "dist_df.drop_duplicates('기여도').sort_values(['기여도'])"
   ]
  },
  {
   "cell_type": "markdown",
   "id": "ba11e701",
   "metadata": {},
   "source": [
    "## Public Analysis Check"
   ]
  },
  {
   "cell_type": "code",
   "execution_count": 182,
   "id": "066d0d32",
   "metadata": {},
   "outputs": [],
   "source": [
    "from src import PublicAnalysis"
   ]
  },
  {
   "cell_type": "code",
   "execution_count": 183,
   "id": "6e7403d1",
   "metadata": {},
   "outputs": [
    {
     "name": "stdout",
     "output_type": "stream",
     "text": [
      "13304\n"
     ]
    },
    {
     "data": {
      "image/png": "[encoded data removed]",
      "text/plain": [
       "<Figure size 1296x288 with 3 Axes>"
      ]
     },
     "metadata": {
      "needs_background": "light"
     },
     "output_type": "display_data"
    },
    {
     "data": {
      "text/html": [
       "<div>\n",
       "<style scoped>\n",
       "    .dataframe tbody tr th:only-of-type {\n",
       "        vertical-align: middle;\n",
       "    }\n",
       "\n",
       "    .dataframe tbody tr th {\n",
       "        vertical-align: top;\n",
       "    }\n",
       "\n",
       "    .dataframe thead th {\n",
       "        text-align: right;\n",
       "    }\n",
       "</style>\n",
       "<table border=\"1\" class=\"dataframe\">\n",
       "  <thead>\n",
       "    <tr style=\"text-align: right;\">\n",
       "      <th></th>\n",
       "      <th>누진 1단계</th>\n",
       "      <th>누진 2단계</th>\n",
       "      <th>누진 3단계</th>\n",
       "    </tr>\n",
       "  </thead>\n",
       "  <tbody>\n",
       "    <tr>\n",
       "      <th>수거 필요 사용량</th>\n",
       "      <td>21600</td>\n",
       "      <td>9396</td>\n",
       "      <td>0</td>\n",
       "    </tr>\n",
       "    <tr>\n",
       "      <th>수거 사용량</th>\n",
       "      <td>20054</td>\n",
       "      <td>9867</td>\n",
       "      <td>1121</td>\n",
       "    </tr>\n",
       "    <tr>\n",
       "      <th>잉여 사용량</th>\n",
       "      <td>1546</td>\n",
       "      <td>3328</td>\n",
       "      <td>0</td>\n",
       "    </tr>\n",
       "    <tr>\n",
       "      <th>초과수거 사용량</th>\n",
       "      <td>0</td>\n",
       "      <td>3799</td>\n",
       "      <td>1121</td>\n",
       "    </tr>\n",
       "  </tbody>\n",
       "</table>\n",
       "</div>"
      ],
      "text/plain": [
       "           누진 1단계  누진 2단계  누진 3단계\n",
       "수거 필요 사용량   21600    9396       0\n",
       " 수거 사용량     20054    9867    1121\n",
       "잉여 사용량       1546    3328       0\n",
       "초과수거 사용량        0    3799    1121"
      ]
     },
     "execution_count": 183,
     "metadata": {},
     "output_type": "execute_result"
    }
   ],
   "source": [
    "pa = PublicAnalysis(file_path).set_init_csv(1)\n",
    "\n",
    "pa.set()\n",
    "pa.set_calc(public_percentage=30)\n",
    "print(pa.calc.public_kwh)\n",
    "pa.elec_rate.col_monitor()\n",
    "pa.elec_rate.col_table()"
   ]
  },
  {
   "cell_type": "code",
   "execution_count": 184,
   "id": "009c5b64",
   "metadata": {},
   "outputs": [
    {
     "data": {
      "image/png": "[encoded data removed]",
      "text/plain": [
       "<Figure size 1152x576 with 2 Axes>"
      ]
     },
     "metadata": {
      "needs_background": "light"
     },
     "output_type": "display_data"
    }
   ],
   "source": [
    "pa.set_calc(public_percentage=30)\n",
    "basic_col_burden, elec_rate_col_burden = pa.get_col_burden()"
   ]
  },
  {
   "cell_type": "code",
   "execution_count": 185,
   "id": "958d34ba",
   "metadata": {},
   "outputs": [
    {
     "name": "stdout",
     "output_type": "stream",
     "text": [
      "13304\n"
     ]
    },
    {
     "data": {
      "image/png": "[encoded data removed]",
      "text/plain": [
       "<Figure size 1296x288 with 3 Axes>"
      ]
     },
     "metadata": {
      "needs_background": "light"
     },
     "output_type": "display_data"
    },
    {
     "data": {
      "text/html": [
       "<div>\n",
       "<style scoped>\n",
       "    .dataframe tbody tr th:only-of-type {\n",
       "        vertical-align: middle;\n",
       "    }\n",
       "\n",
       "    .dataframe tbody tr th {\n",
       "        vertical-align: top;\n",
       "    }\n",
       "\n",
       "    .dataframe thead th {\n",
       "        text-align: right;\n",
       "    }\n",
       "</style>\n",
       "<table border=\"1\" class=\"dataframe\">\n",
       "  <thead>\n",
       "    <tr style=\"text-align: right;\">\n",
       "      <th></th>\n",
       "      <th>누진 1단계</th>\n",
       "      <th>누진 2단계</th>\n",
       "      <th>누진 3단계</th>\n",
       "    </tr>\n",
       "  </thead>\n",
       "  <tbody>\n",
       "    <tr>\n",
       "      <th>수거 필요 사용량</th>\n",
       "      <td>21600</td>\n",
       "      <td>9396</td>\n",
       "      <td>0</td>\n",
       "    </tr>\n",
       "    <tr>\n",
       "      <th>수거 사용량</th>\n",
       "      <td>21600</td>\n",
       "      <td>9442</td>\n",
       "      <td>0</td>\n",
       "    </tr>\n",
       "    <tr>\n",
       "      <th>잉여 사용량</th>\n",
       "      <td>0</td>\n",
       "      <td>3363</td>\n",
       "      <td>0</td>\n",
       "    </tr>\n",
       "    <tr>\n",
       "      <th>초과수거 사용량</th>\n",
       "      <td>0</td>\n",
       "      <td>3409</td>\n",
       "      <td>0</td>\n",
       "    </tr>\n",
       "  </tbody>\n",
       "</table>\n",
       "</div>"
      ],
      "text/plain": [
       "           누진 1단계  누진 2단계  누진 3단계\n",
       "수거 필요 사용량   21600    9396       0\n",
       " 수거 사용량     21600    9442       0\n",
       "잉여 사용량          0    3363       0\n",
       "초과수거 사용량        0    3409       0"
      ]
     },
     "execution_count": 185,
     "metadata": {},
     "output_type": "execute_result"
    }
   ],
   "source": [
    "pa.meter_month = pm.simulation_datas.copy()\n",
    "pa.set_calc(public_percentage=30)\n",
    "print(pa.calc.public_kwh)\n",
    "pa.elec_rate.col_monitor()\n",
    "pa.elec_rate.col_table()"
   ]
  },
  {
   "cell_type": "code",
   "execution_count": 186,
   "id": "28d18380",
   "metadata": {},
   "outputs": [
    {
     "data": {
      "image/png": "[encoded data removed]",
      "text/plain": [
       "<Figure size 1152x576 with 2 Axes>"
      ]
     },
     "metadata": {
      "needs_background": "light"
     },
     "output_type": "display_data"
    }
   ],
   "source": [
    "pa.set_calc(public_percentage=30)\n",
    "basic_col_burden, elec_rate_col_burden = pa.get_col_burden()"
   ]
  }
 ],
 "metadata": {
  "kernelspec": {
   "display_name": "Python 3",
   "language": "python",
   "name": "python3"
  },
  "language_info": {
   "codemirror_mode": {
    "name": "ipython",
    "version": 3
   },
   "file_extension": ".py",
   "mimetype": "text/x-python",
   "name": "python",
   "nbconvert_exporter": "python",
   "pygments_lexer": "ipython3",
   "version": "3.9.4"
  }
 },
 "nbformat": 4,
 "nbformat_minor": 5
}
