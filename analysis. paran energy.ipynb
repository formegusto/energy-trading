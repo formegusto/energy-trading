{
 "cells": [
  {
   "cell_type": "code",
   "execution_count": 68,
   "id": "bfea5647",
   "metadata": {},
   "outputs": [
    {
     "name": "stdout",
     "output_type": "stream",
     "text": [
      "The autoreload extension is already loaded. To reload it, use:\n",
      "  %reload_ext autoreload\n"
     ]
    }
   ],
   "source": [
    "%load_ext autoreload\n",
    "%autoreload 2\n",
    "%reload_ext autoreload\n",
    "\n",
    "import pandas as pd\n",
    "import numpy as np\n",
    "\n",
    "from src import Household"
   ]
  },
  {
   "cell_type": "code",
   "execution_count": 69,
   "id": "fda13e9f",
   "metadata": {},
   "outputs": [
    {
     "name": "stdout",
     "output_type": "stream",
     "text": [
      "현재요금 7300 61852.0 69152.0\n"
     ]
    }
   ],
   "source": [
    "buyer = Household(name=\"가구 1\", kwh=420).set_rate(\"단일\", \"기타\")\n",
    "\n",
    "print(\"현재요금\", buyer.basic, buyer.elec_rate, buyer.basic + buyer.elec_rate)"
   ]
  },
  {
   "cell_type": "code",
   "execution_count": 70,
   "id": "5a94f3c9",
   "metadata": {},
   "outputs": [
    {
     "name": "stdout",
     "output_type": "stream",
     "text": [
      "현재요금 910 13995.0 14905.0\n"
     ]
    }
   ],
   "source": [
    "seller = Household(name=\"가구 2\", kwh=150).set_rate(\"단일\", \"기타\")\n",
    "\n",
    "print(\"현재요금\", seller.basic, seller.elec_rate, seller.basic + seller.elec_rate)"
   ]
  },
  {
   "cell_type": "code",
   "execution_count": 71,
   "id": "a12c66bf",
   "metadata": {},
   "outputs": [
    {
     "name": "stdout",
     "output_type": "stream",
     "text": [
      "고객 가구 2은 판매 권장고객입니다.\n",
      "\n",
      "현재 사용량은 150kWh이며, 이번달 예측 사용량은 170kWh입니다.\n",
      "\n",
      "사용량 30kwh의 거래를 추천해드립니다.\n",
      "\n",
      "거래 진행 시, 고객님의 사용량은 180kWh가 되며,\n",
      "전기요금계는 14905.0원에서 17704.0원으로 2799.0원 증가합니다.\n",
      "\n",
      "\n",
      "고객 가구 1와의 거래를 추천드립니다.\n",
      "거래 진행 시, 구매자의 사용량은 390kWh가 되며,\n",
      "전기요금계는 69152.0원에서 55961.0원으로 13191.0원 감소합니다.\n",
      "\n",
      "\n",
      "거래 진행 시, 거래사용량 30kWh의 상품 가치는 2799.0원 ~ 13191.0원 입니다.\n",
      "7995.0원의 거래를 추천드립니다.\n",
      "거래 진행 시, 판매자의 예상 수익은 5196.0원 입니다.\n",
      "구매자의 수입은, 총 5196.0원 입니다.\n"
     ]
    }
   ],
   "source": [
    "# 서비스 소개 알고리즘 정리\n",
    "\n",
    "# 판매 권장 고객 ? 누진 1단계 사용 고객\n",
    "print(\"고객 {}은 판매 권장고객입니다.\\n\".format(seller.name))\n",
    "\n",
    "# 여기서 예측기가 붙을 거임\n",
    "predict_kwh = 170\n",
    "print(\"현재 사용량은 {}kWh이며, 이번달 예측 사용량은 {}kWh입니다.\\n\".format(\n",
    "    seller.kwh,\n",
    "    predict_kwh\n",
    "))\n",
    "\n",
    "# 거래 추천\n",
    "# 아마 가장 단순하게는 누진 2단계 시작 구간인 200kWh - 예측 사용량 170kWh를 빼는 형식으로 추천이 될거임\n",
    "reco_trading_kwh = 200 - predict_kwh\n",
    "print(\"사용량 {}kwh의 거래를 추천해드립니다.\\n\".format(reco_trading_kwh))\n",
    "\n",
    "# 현재 상태에서 거래를 진행했을 경우의 가격을 우선적으로 계산하겠지?\n",
    "after_seller = Household(name=\"가구 2\", kwh=seller.kwh + reco_trading_kwh).set_rate(\"단일\", \"기타\")\n",
    "print(\"거래 진행 시, 고객님의 사용량은 {}kWh가 되며,\\n\".format(after_seller.kwh)\n",
    "     + \"전기요금계는 {}원에서 {}원으로 {}원 증가합니다.\\n\\n\".format(\n",
    "         seller.basic + seller.elec_rate,\n",
    "         after_seller.basic + after_seller.elec_rate,\n",
    "         (after_seller.basic + after_seller.elec_rate) - (seller.basic + seller.elec_rate)\n",
    "     ))\n",
    "\n",
    "# 그러면 아마 이 고객이 가장 이득을 얻을 수 있는 구매자를 찾아낼 것임\n",
    "print(\"고객 {}와의 거래를 추천드립니다.\".format(buyer.name))\n",
    "# 그리고 buyer의 가격도 우선 측정하겠지?\n",
    "after_buyer = Household(name=\"가구 1\", kwh=buyer.kwh - reco_trading_kwh).set_rate(\"단일\", \"기타\")\n",
    "print(\"거래 진행 시, 구매자의 사용량은 {}kWh가 되며,\\n\".format(after_buyer.kwh)\n",
    "     + \"전기요금계는 {}원에서 {}원으로 {}원 감소합니다.\\n\\n\".format(\n",
    "         buyer.basic + buyer.elec_rate,\n",
    "         after_buyer.basic + after_buyer.elec_rate,\n",
    "         (buyer.basic + buyer.elec_rate) - (after_buyer.basic + after_buyer.elec_rate)\n",
    "     ))\n",
    "\n",
    "# 이 때 상품의 가치는 고객 2가 최소로는 받아야하는 금액 (eq. 올라간 금액만큼의 금액) 부터\n",
    "# 고객 1과의 거래 시, 최대로 요구할 수 있는 가격이 온다. (eq. 구매자에게 내려간 금액, 구매자가 지불해도 구매자가 손해를 보지 않는 금액)\n",
    "min_val = (after_seller.basic + after_seller.elec_rate) - (seller.basic + seller.elec_rate)\n",
    "max_val = (buyer.basic + buyer.elec_rate) - (after_buyer.basic + after_buyer.elec_rate)\n",
    "print(\"거래 진행 시, 거래사용량 {}kWh의 상품 가치는 {}원 ~ {}원 입니다.\".format(reco_trading_kwh, min_val, max_val))\n",
    "\n",
    "# 이 둘의 평균값이 추천 거래 금액\n",
    "reco_val = (min_val + max_val) / 2\n",
    "print(\"{}원의 거래를 추천드립니다.\".format(reco_val))\n",
    "\n",
    "# 예상 수익은 추천 금액으로 거래 진행 시, 거래 금액 - 가구 2가 올라간 본 금액이 된다.\n",
    "seller_profit = reco_val - min_val\n",
    "buyer_profit = (buyer.basic + buyer.elec_rate)\\\n",
    "                                    - (after_buyer.basic + after_buyer.elec_rate)\\\n",
    "                                   - reco_val\n",
    "\n",
    "print(\"거래 진행 시, 판매자의 예상 수익은 {}원 입니다.\".format(seller_profit))\n",
    "print(\"구매자의 수입은, 총 {}원 입니다.\".format(buyer_profit))\n",
    "\n",
    "# 서로 동등한 수익을 얻게되는 것,\n",
    "# 공용부에는 어떤 변화가 찾아올까?"
   ]
  },
  {
   "cell_type": "markdown",
   "id": "88a3f750",
   "metadata": {},
   "source": [
    "# Modularization"
   ]
  },
  {
   "cell_type": "code",
   "execution_count": 413,
   "id": "5aa2ef3f",
   "metadata": {},
   "outputs": [
    {
     "data": {
      "text/html": [
       "<div>\n",
       "<style scoped>\n",
       "    .dataframe tbody tr th:only-of-type {\n",
       "        vertical-align: middle;\n",
       "    }\n",
       "\n",
       "    .dataframe tbody tr th {\n",
       "        vertical-align: top;\n",
       "    }\n",
       "\n",
       "    .dataframe thead th {\n",
       "        text-align: right;\n",
       "    }\n",
       "</style>\n",
       "<table border=\"1\" class=\"dataframe\">\n",
       "  <thead>\n",
       "    <tr style=\"text-align: right;\">\n",
       "      <th></th>\n",
       "      <th>name</th>\n",
       "      <th>usage (kWh)</th>\n",
       "    </tr>\n",
       "  </thead>\n",
       "  <tbody>\n",
       "    <tr>\n",
       "      <th>0</th>\n",
       "      <td>아파트1-104-1206</td>\n",
       "      <td>99</td>\n",
       "    </tr>\n",
       "    <tr>\n",
       "      <th>1</th>\n",
       "      <td>아파트1-104-303</td>\n",
       "      <td>10</td>\n",
       "    </tr>\n",
       "    <tr>\n",
       "      <th>2</th>\n",
       "      <td>아파트1-104-1307</td>\n",
       "      <td>22</td>\n",
       "    </tr>\n",
       "    <tr>\n",
       "      <th>3</th>\n",
       "      <td>아파트1-104-1208</td>\n",
       "      <td>40</td>\n",
       "    </tr>\n",
       "    <tr>\n",
       "      <th>4</th>\n",
       "      <td>아파트1-104-408</td>\n",
       "      <td>38</td>\n",
       "    </tr>\n",
       "  </tbody>\n",
       "</table>\n",
       "</div>"
      ],
      "text/plain": [
       "            name  usage (kWh)\n",
       "0  아파트1-104-1206           99\n",
       "1   아파트1-104-303           10\n",
       "2  아파트1-104-1307           22\n",
       "3  아파트1-104-1208           40\n",
       "4   아파트1-104-408           38"
      ]
     },
     "execution_count": 413,
     "metadata": {},
     "output_type": "execute_result"
    }
   ],
   "source": [
    "from src import ParanModel\n",
    "\n",
    "file_path = \"data/meter_month/apt_1_month_1.csv\"\n",
    "pm = ParanModel(file_path)\n",
    "\n",
    "pm.datas.head()"
   ]
  },
  {
   "cell_type": "code",
   "execution_count": 415,
   "id": "a5975e81",
   "metadata": {},
   "outputs": [
    {
     "data": {
      "text/html": [
       "<div>\n",
       "<style scoped>\n",
       "    .dataframe tbody tr th:only-of-type {\n",
       "        vertical-align: middle;\n",
       "    }\n",
       "\n",
       "    .dataframe tbody tr th {\n",
       "        vertical-align: top;\n",
       "    }\n",
       "\n",
       "    .dataframe thead th {\n",
       "        text-align: right;\n",
       "    }\n",
       "</style>\n",
       "<table border=\"1\" class=\"dataframe\">\n",
       "  <thead>\n",
       "    <tr style=\"text-align: right;\">\n",
       "      <th></th>\n",
       "      <th>name</th>\n",
       "      <th>usage (kWh)</th>\n",
       "      <th>거래 이익</th>\n",
       "    </tr>\n",
       "  </thead>\n",
       "  <tbody>\n",
       "    <tr>\n",
       "      <th>0</th>\n",
       "      <td>아파트1-104-1206</td>\n",
       "      <td>200</td>\n",
       "      <td>10965.3</td>\n",
       "    </tr>\n",
       "    <tr>\n",
       "      <th>1</th>\n",
       "      <td>아파트1-104-303</td>\n",
       "      <td>200</td>\n",
       "      <td>17794.0</td>\n",
       "    </tr>\n",
       "    <tr>\n",
       "      <th>2</th>\n",
       "      <td>아파트1-104-1307</td>\n",
       "      <td>200</td>\n",
       "      <td>16669.8</td>\n",
       "    </tr>\n",
       "    <tr>\n",
       "      <th>3</th>\n",
       "      <td>아파트1-104-1208</td>\n",
       "      <td>200</td>\n",
       "      <td>14914.9</td>\n",
       "    </tr>\n",
       "    <tr>\n",
       "      <th>4</th>\n",
       "      <td>아파트1-104-408</td>\n",
       "      <td>200</td>\n",
       "      <td>15611.8</td>\n",
       "    </tr>\n",
       "  </tbody>\n",
       "</table>\n",
       "</div>"
      ],
      "text/plain": [
       "            name  usage (kWh)    거래 이익\n",
       "0  아파트1-104-1206          200  10965.3\n",
       "1   아파트1-104-303          200  17794.0\n",
       "2  아파트1-104-1307          200  16669.8\n",
       "3  아파트1-104-1208          200  14914.9\n",
       "4   아파트1-104-408          200  15611.8"
      ]
     },
     "execution_count": 415,
     "metadata": {},
     "output_type": "execute_result"
    }
   ],
   "source": [
    "pm.simulation()\n",
    "pm.simulation_datas.head()"
   ]
  },
  {
   "cell_type": "code",
   "execution_count": 420,
   "id": "d9a24413",
   "metadata": {},
   "outputs": [
    {
     "data": {
      "text/html": [
       "<div>\n",
       "<style scoped>\n",
       "    .dataframe tbody tr th:only-of-type {\n",
       "        vertical-align: middle;\n",
       "    }\n",
       "\n",
       "    .dataframe tbody tr th {\n",
       "        vertical-align: top;\n",
       "    }\n",
       "\n",
       "    .dataframe thead th {\n",
       "        text-align: right;\n",
       "    }\n",
       "</style>\n",
       "<table border=\"1\" class=\"dataframe\">\n",
       "  <thead>\n",
       "    <tr style=\"text-align: right;\">\n",
       "      <th></th>\n",
       "      <th>거래 전</th>\n",
       "      <th>거래 후</th>\n",
       "      <th>오차</th>\n",
       "    </tr>\n",
       "  </thead>\n",
       "  <tbody>\n",
       "    <tr>\n",
       "      <th>세대부 총 가격</th>\n",
       "      <td>4284100</td>\n",
       "      <td>3945671</td>\n",
       "      <td>-338428</td>\n",
       "    </tr>\n",
       "    <tr>\n",
       "      <th>공용부 총 가격</th>\n",
       "      <td>2911572</td>\n",
       "      <td>3250001</td>\n",
       "      <td>338428</td>\n",
       "    </tr>\n",
       "    <tr>\n",
       "      <th>한 가구 당 공용부 총 가격</th>\n",
       "      <td>26959</td>\n",
       "      <td>30092</td>\n",
       "      <td>3133</td>\n",
       "    </tr>\n",
       "  </tbody>\n",
       "</table>\n",
       "</div>"
      ],
      "text/plain": [
       "                    거래 전     거래 후      오차\n",
       "세대부 총 가격         4284100  3945671 -338428\n",
       "공용부 총 가격         2911572  3250001  338428\n",
       "한 가구 당 공용부 총 가격    26959    30092    3133"
      ]
     },
     "execution_count": 420,
     "metadata": {},
     "output_type": "execute_result"
    }
   ],
   "source": [
    "pm.simulation_result()"
   ]
  },
  {
   "cell_type": "markdown",
   "id": "f0826445",
   "metadata": {},
   "source": [
    "## 이 상태에서 공용부 가격분배가 붙는다면?"
   ]
  },
  {
   "cell_type": "code",
   "execution_count": 424,
   "id": "f6297c7c",
   "metadata": {},
   "outputs": [],
   "source": [
    "from src import GroupDistributor"
   ]
  },
  {
   "cell_type": "code",
   "execution_count": 426,
   "id": "50b8852c",
   "metadata": {},
   "outputs": [],
   "source": [
    "dist = GroupDistributor(file_path).set_init_csv(1)"
   ]
  },
  {
   "cell_type": "code",
   "execution_count": 427,
   "id": "81490226",
   "metadata": {},
   "outputs": [
    {
     "data": {
      "text/html": [
       "<div>\n",
       "<style scoped>\n",
       "    .dataframe tbody tr th:only-of-type {\n",
       "        vertical-align: middle;\n",
       "    }\n",
       "\n",
       "    .dataframe tbody tr th {\n",
       "        vertical-align: top;\n",
       "    }\n",
       "\n",
       "    .dataframe thead th {\n",
       "        text-align: right;\n",
       "    }\n",
       "</style>\n",
       "<table border=\"1\" class=\"dataframe\">\n",
       "  <thead>\n",
       "    <tr style=\"text-align: right;\">\n",
       "      <th></th>\n",
       "      <th>name</th>\n",
       "      <th>usage (kWh)</th>\n",
       "    </tr>\n",
       "  </thead>\n",
       "  <tbody>\n",
       "    <tr>\n",
       "      <th>0</th>\n",
       "      <td>아파트1-104-1206</td>\n",
       "      <td>99.185</td>\n",
       "    </tr>\n",
       "    <tr>\n",
       "      <th>1</th>\n",
       "      <td>아파트1-104-303</td>\n",
       "      <td>10.482</td>\n",
       "    </tr>\n",
       "    <tr>\n",
       "      <th>2</th>\n",
       "      <td>아파트1-104-1307</td>\n",
       "      <td>22.502</td>\n",
       "    </tr>\n",
       "    <tr>\n",
       "      <th>3</th>\n",
       "      <td>아파트1-104-1208</td>\n",
       "      <td>40.245</td>\n",
       "    </tr>\n",
       "    <tr>\n",
       "      <th>4</th>\n",
       "      <td>아파트1-104-408</td>\n",
       "      <td>38.607</td>\n",
       "    </tr>\n",
       "    <tr>\n",
       "      <th>...</th>\n",
       "      <td>...</td>\n",
       "      <td>...</td>\n",
       "    </tr>\n",
       "    <tr>\n",
       "      <th>103</th>\n",
       "      <td>아파트1-103-903</td>\n",
       "      <td>272.512</td>\n",
       "    </tr>\n",
       "    <tr>\n",
       "      <th>104</th>\n",
       "      <td>아파트1-103-1106</td>\n",
       "      <td>254.934</td>\n",
       "    </tr>\n",
       "    <tr>\n",
       "      <th>105</th>\n",
       "      <td>아파트1-103-705</td>\n",
       "      <td>227.976</td>\n",
       "    </tr>\n",
       "    <tr>\n",
       "      <th>106</th>\n",
       "      <td>아파트1-103-1505</td>\n",
       "      <td>384.196</td>\n",
       "    </tr>\n",
       "    <tr>\n",
       "      <th>107</th>\n",
       "      <td>아파트1-103-406</td>\n",
       "      <td>316.611</td>\n",
       "    </tr>\n",
       "  </tbody>\n",
       "</table>\n",
       "<p>108 rows × 2 columns</p>\n",
       "</div>"
      ],
      "text/plain": [
       "              name  usage (kWh)\n",
       "0    아파트1-104-1206       99.185\n",
       "1     아파트1-104-303       10.482\n",
       "2    아파트1-104-1307       22.502\n",
       "3    아파트1-104-1208       40.245\n",
       "4     아파트1-104-408       38.607\n",
       "..             ...          ...\n",
       "103   아파트1-103-903      272.512\n",
       "104  아파트1-103-1106      254.934\n",
       "105   아파트1-103-705      227.976\n",
       "106  아파트1-103-1505      384.196\n",
       "107   아파트1-103-406      316.611\n",
       "\n",
       "[108 rows x 2 columns]"
      ]
     },
     "execution_count": 427,
     "metadata": {},
     "output_type": "execute_result"
    }
   ],
   "source": [
    "dist.meter_month"
   ]
  },
  {
   "cell_type": "code",
   "execution_count": null,
   "id": "4f298b61",
   "metadata": {},
   "outputs": [],
   "source": []
  }
 ],
 "metadata": {
  "kernelspec": {
   "display_name": "Python 3",
   "language": "python",
   "name": "python3"
  },
  "language_info": {
   "codemirror_mode": {
    "name": "ipython",
    "version": 3
   },
   "file_extension": ".py",
   "mimetype": "text/x-python",
   "name": "python",
   "nbconvert_exporter": "python",
   "pygments_lexer": "ipython3",
   "version": "3.9.4"
  }
 },
 "nbformat": 4,
 "nbformat_minor": 5
}
