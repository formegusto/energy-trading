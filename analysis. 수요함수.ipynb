{
 "cells": [
  {
   "cell_type": "code",
   "execution_count": 131,
   "id": "7f07e6c3",
   "metadata": {},
   "outputs": [],
   "source": [
    "import numpy as np\n",
    "\n",
    "\n",
    "def reactive_price_by_trade_qty(qty_trade, usage, step, elec_rate):\n",
    "    _step = step[1:]\n",
    "    min_usage = step[1]\n",
    "    # 전력량요금\n",
    "    elec_rate = elec_rate[:-1]\n",
    "\n",
    "    if usage < min_usage:\n",
    "        return 0\n",
    "\n",
    "    # [demand2, demand1]\n",
    "    demands = usage - _step\n",
    "    demands = np.where(demands > 0, demands, 0)\n",
    "\n",
    "    err_demands = demands[1] - demands[0]\n",
    "    output_price = ((elec_rate[1] - elec_rate[0]) / err_demands) * qty_trade -\\\n",
    "        (elec_rate[1] * demands[0] - elec_rate[0] * demands[1]) / (err_demands)\n",
    "\n",
    "    return output_price"
   ]
  },
  {
   "cell_type": "code",
   "execution_count": 135,
   "id": "eb4a3c10",
   "metadata": {},
   "outputs": [
    {
     "data": {
      "text/plain": [
       "140.29999999999998"
      ]
     },
     "execution_count": 135,
     "metadata": {},
     "output_type": "execute_result"
    }
   ],
   "source": [
    "usages = 250\n",
    "reactive_price_by_trade_qty(5, usages, np.array([0, 200, 400]), np.array([78.2, 147.2, 215.5]))"
   ]
  },
  {
   "cell_type": "code",
   "execution_count": 136,
   "id": "042a6632",
   "metadata": {},
   "outputs": [],
   "source": [
    "def my_reactive(qty_trade, usage, step, elec_rate):\n",
    "    _step = step[1:]\n",
    "    min_usage = step[1]\n",
    "    \n",
    "    demands = usage - _step\n",
    "    demands = np.where(demands > 0, demands, 0)\n",
    "    \n",
    "    \n",
    "    x_2 = demands[0] - demands[1]\n",
    "    x_1 = demands[1] * -1\n",
    "    y_2 = elec_rate[0]\n",
    "    # 임시 y_1\n",
    "    y_1 = elec_rate[1]\n",
    "    \n",
    "    gradient = (y_2 - y_1) / (x_2 - 0)\n",
    "    fx = lambda x: gradient * x + y_1\n",
    "    \n",
    "    y_1 = fx(x_1)\n",
    "    fx = lambda x: gradient * x + y_1\n",
    "    \n",
    "    return fx(qty_trade)"
   ]
  },
  {
   "cell_type": "code",
   "execution_count": 138,
   "id": "81f1971d",
   "metadata": {},
   "outputs": [
    {
     "data": {
      "text/plain": [
       "140.29999999999998"
      ]
     },
     "execution_count": 138,
     "metadata": {},
     "output_type": "execute_result"
    }
   ],
   "source": [
    "usages = 250\n",
    "my_reactive(5, usages, np.array([0, 200, 400]), np.array([78.2, 147.2, 215.5]))"
   ]
  },
  {
   "cell_type": "code",
   "execution_count": 57,
   "id": "8a61ba6a",
   "metadata": {},
   "outputs": [
    {
     "data": {
      "image/png": "[encoded data removed]",
      "text/plain": [
       "<Figure size 432x288 with 1 Axes>"
      ]
     },
     "metadata": {
      "needs_background": "light"
     },
     "output_type": "display_data"
    }
   ],
   "source": [
    "import matplotlib.pyplot as plt\n",
    "\n",
    "usages = 450\n",
    "price_mem_1 = []\n",
    "\n",
    "for qty in range(0, 450 - 200):\n",
    "    price_mem_1.append(\n",
    "        reactive_price_by_trade_qty(qty, usages, np.array([0, 200, 400]), np.array([78.2, 147.2, 215.5]))\n",
    "    )\n",
    "    \n",
    "plt.plot(price_mem_1)\n",
    "plt.show()"
   ]
  },
  {
   "cell_type": "code",
   "execution_count": 58,
   "id": "87d586c0",
   "metadata": {},
   "outputs": [
    {
     "data": {
      "text/plain": [
       "[164.45,\n",
       " 164.105,\n",
       " 163.76,\n",
       " 163.415,\n",
       " 163.07,\n",
       " 162.725,\n",
       " 162.38,\n",
       " 162.035,\n",
       " 161.69,\n",
       " 161.345,\n",
       " 161.0,\n",
       " 160.655,\n",
       " 160.31,\n",
       " 159.965,\n",
       " 159.61999999999998,\n",
       " 159.27499999999998,\n",
       " 158.92999999999998,\n",
       " 158.58499999999998,\n",
       " 158.23999999999998,\n",
       " 157.89499999999998,\n",
       " 157.54999999999998,\n",
       " 157.20499999999998,\n",
       " 156.85999999999999,\n",
       " 156.515,\n",
       " 156.17,\n",
       " 155.825,\n",
       " 155.48,\n",
       " 155.135,\n",
       " 154.79,\n",
       " 154.445,\n",
       " 154.1,\n",
       " 153.755,\n",
       " 153.41,\n",
       " 153.065,\n",
       " 152.72,\n",
       " 152.375,\n",
       " 152.03,\n",
       " 151.685,\n",
       " 151.34,\n",
       " 150.995,\n",
       " 150.64999999999998,\n",
       " 150.305,\n",
       " 149.95999999999998,\n",
       " 149.61499999999998,\n",
       " 149.26999999999998,\n",
       " 148.92499999999998,\n",
       " 148.57999999999998,\n",
       " 148.23499999999999,\n",
       " 147.89,\n",
       " 147.545,\n",
       " 147.2,\n",
       " 146.855,\n",
       " 146.51,\n",
       " 146.165,\n",
       " 145.82,\n",
       " 145.475,\n",
       " 145.13,\n",
       " 144.785,\n",
       " 144.44,\n",
       " 144.095,\n",
       " 143.75,\n",
       " 143.405,\n",
       " 143.06,\n",
       " 142.715,\n",
       " 142.37,\n",
       " 142.025,\n",
       " 141.68,\n",
       " 141.33499999999998,\n",
       " 140.99,\n",
       " 140.64499999999998,\n",
       " 140.29999999999998,\n",
       " 139.95499999999998,\n",
       " 139.60999999999999,\n",
       " 139.265,\n",
       " 138.92,\n",
       " 138.575,\n",
       " 138.23,\n",
       " 137.885,\n",
       " 137.54,\n",
       " 137.195,\n",
       " 136.85,\n",
       " 136.505,\n",
       " 136.16,\n",
       " 135.815,\n",
       " 135.47,\n",
       " 135.125,\n",
       " 134.78,\n",
       " 134.435,\n",
       " 134.09,\n",
       " 133.745,\n",
       " 133.4,\n",
       " 133.055,\n",
       " 132.71,\n",
       " 132.365,\n",
       " 132.01999999999998,\n",
       " 131.675,\n",
       " 131.32999999999998,\n",
       " 130.985,\n",
       " 130.64,\n",
       " 130.295,\n",
       " 129.95,\n",
       " 129.605,\n",
       " 129.26,\n",
       " 128.915,\n",
       " 128.57,\n",
       " 128.225,\n",
       " 127.88,\n",
       " 127.535,\n",
       " 127.19,\n",
       " 126.845,\n",
       " 126.5,\n",
       " 126.155,\n",
       " 125.81,\n",
       " 125.465,\n",
       " 125.12,\n",
       " 124.775,\n",
       " 124.43,\n",
       " 124.08500000000001,\n",
       " 123.74,\n",
       " 123.395,\n",
       " 123.05,\n",
       " 122.705,\n",
       " 122.36,\n",
       " 122.015,\n",
       " 121.67,\n",
       " 121.32499999999999,\n",
       " 120.97999999999999,\n",
       " 120.63499999999999,\n",
       " 120.28999999999999,\n",
       " 119.945,\n",
       " 119.6,\n",
       " 119.255,\n",
       " 118.91,\n",
       " 118.565,\n",
       " 118.22,\n",
       " 117.875,\n",
       " 117.53,\n",
       " 117.185,\n",
       " 116.84,\n",
       " 116.495,\n",
       " 116.15,\n",
       " 115.805,\n",
       " 115.46000000000001,\n",
       " 115.11500000000001,\n",
       " 114.77000000000001,\n",
       " 114.425,\n",
       " 114.08,\n",
       " 113.735,\n",
       " 113.39,\n",
       " 113.045,\n",
       " 112.7,\n",
       " 112.355,\n",
       " 112.00999999999999,\n",
       " 111.66499999999999,\n",
       " 111.32,\n",
       " 110.975,\n",
       " 110.63,\n",
       " 110.285,\n",
       " 109.94,\n",
       " 109.595,\n",
       " 109.25,\n",
       " 108.905,\n",
       " 108.56,\n",
       " 108.215,\n",
       " 107.87,\n",
       " 107.525,\n",
       " 107.18,\n",
       " 106.83500000000001,\n",
       " 106.49000000000001,\n",
       " 106.14500000000001,\n",
       " 105.80000000000001,\n",
       " 105.45500000000001,\n",
       " 105.11,\n",
       " 104.765,\n",
       " 104.42,\n",
       " 104.075,\n",
       " 103.73,\n",
       " 103.385,\n",
       " 103.04,\n",
       " 102.695,\n",
       " 102.35,\n",
       " 102.005,\n",
       " 101.66,\n",
       " 101.315,\n",
       " 100.97,\n",
       " 100.625,\n",
       " 100.28,\n",
       " 99.935,\n",
       " 99.59,\n",
       " 99.245,\n",
       " 98.9,\n",
       " 98.555,\n",
       " 98.21000000000001,\n",
       " 97.86500000000001,\n",
       " 97.52000000000001,\n",
       " 97.17500000000001,\n",
       " 96.83,\n",
       " 96.485,\n",
       " 96.14,\n",
       " 95.795,\n",
       " 95.45,\n",
       " 95.105,\n",
       " 94.76,\n",
       " 94.415,\n",
       " 94.07000000000001,\n",
       " 93.72500000000001,\n",
       " 93.38000000000001,\n",
       " 93.03500000000001,\n",
       " 92.69000000000001,\n",
       " 92.345,\n",
       " 92.0,\n",
       " 91.655,\n",
       " 91.31,\n",
       " 90.965,\n",
       " 90.62,\n",
       " 90.275,\n",
       " 89.93,\n",
       " 89.58500000000001,\n",
       " 89.24000000000001,\n",
       " 88.89500000000001,\n",
       " 88.55000000000001,\n",
       " 88.20500000000001,\n",
       " 87.86000000000001,\n",
       " 87.515,\n",
       " 87.17,\n",
       " 86.825,\n",
       " 86.48,\n",
       " 86.135,\n",
       " 85.79,\n",
       " 85.44500000000001,\n",
       " 85.10000000000001,\n",
       " 84.75500000000001,\n",
       " 84.41000000000001,\n",
       " 84.06500000000001,\n",
       " 83.72000000000001,\n",
       " 83.37500000000001,\n",
       " 83.03,\n",
       " 82.685,\n",
       " 82.34,\n",
       " 81.995,\n",
       " 81.65,\n",
       " 81.305,\n",
       " 80.96000000000001,\n",
       " 80.61500000000001,\n",
       " 80.27000000000001,\n",
       " 79.92500000000001,\n",
       " 79.58000000000001,\n",
       " 79.23500000000001,\n",
       " 78.89000000000001,\n",
       " 78.54500000000002]"
      ]
     },
     "execution_count": 58,
     "metadata": {},
     "output_type": "execute_result"
    }
   ],
   "source": [
    "price_mem_1"
   ]
  },
  {
   "cell_type": "code",
   "execution_count": 42,
   "id": "663b544e",
   "metadata": {},
   "outputs": [
    {
     "data": {
      "text/plain": [
       "[<matplotlib.lines.Line2D at 0x7fa441884100>]"
      ]
     },
     "execution_count": 42,
     "metadata": {},
     "output_type": "execute_result"
    },
    {
     "data": {
      "image/png": "[encoded data removed]",
      "text/plain": [
       "<Figure size 432x288 with 1 Axes>"
      ]
     },
     "metadata": {
      "needs_background": "light"
     },
     "output_type": "display_data"
    }
   ],
   "source": [
    "elec_rate = np.array([78.2, 147.2, 215.5])\n",
    "steps = np.array([0, 200, 400])\n",
    "\n",
    "plt.plot([0, 50], [215.5, 147.2])\n",
    "plt.plot([50, 250], [147.2, 78.2])\n",
    "plt.plot(price_mem_1)"
   ]
  },
  {
   "cell_type": "code",
   "execution_count": 31,
   "id": "39d75fa2",
   "metadata": {},
   "outputs": [
    {
     "data": {
      "image/png": "[encoded data removed]",
      "text/plain": [
       "<Figure size 432x288 with 1 Axes>"
      ]
     },
     "metadata": {
      "needs_background": "light"
     },
     "output_type": "display_data"
    }
   ],
   "source": [
    "import matplotlib.pyplot as plt\n",
    "\n",
    "usages = 350\n",
    "price_mem_2 = []\n",
    "\n",
    "for qty in range(0, 350 - 200):\n",
    "    price_mem_2.append(\n",
    "        reactive_price_by_trade_qty(qty, usages, np.array([0, 200, 400]), np.array([78.2, 147.2, 215.5]))\n",
    "    )\n",
    "    \n",
    "plt.plot(price_mem_1, label=\"450\")\n",
    "plt.plot(price_mem_2, label=\"350\")\n",
    "\n",
    "plt.legend()\n",
    "plt.show()"
   ]
  },
  {
   "cell_type": "code",
   "execution_count": null,
   "id": "a250f506",
   "metadata": {},
   "outputs": [],
   "source": []
  }
 ],
 "metadata": {
  "kernelspec": {
   "display_name": "Python 3 (ipykernel)",
   "language": "python",
   "name": "python3"
  },
  "language_info": {
   "codemirror_mode": {
    "name": "ipython",
    "version": 3
   },
   "file_extension": ".py",
   "mimetype": "text/x-python",
   "name": "python",
   "nbconvert_exporter": "python",
   "pygments_lexer": "ipython3",
   "version": "3.8.12"
  }
 },
 "nbformat": 4,
 "nbformat_minor": 5
}
