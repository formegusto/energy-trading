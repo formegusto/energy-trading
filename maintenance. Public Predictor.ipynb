{
 "cells": [
  {
   "cell_type": "code",
   "execution_count": 2,
   "id": "fa846942",
   "metadata": {},
   "outputs": [
    {
     "name": "stdout",
     "output_type": "stream",
     "text": [
      "The autoreload extension is already loaded. To reload it, use:\n",
      "  %reload_ext autoreload\n"
     ]
    }
   ],
   "source": [
    "%load_ext autoreload\n",
    "%autoreload 2\n",
    "%reload_ext autoreload\n",
    "\n",
    "from src import PublicAnalysis,PublicPredictor"
   ]
  },
  {
   "cell_type": "code",
   "execution_count": 3,
   "id": "c1d5fb64",
   "metadata": {},
   "outputs": [],
   "source": [
    "file_path = \"data/meter/apt_all.xlsx\"\n",
    "pa = PublicAnalysis(file_path)"
   ]
  },
  {
   "cell_type": "code",
   "execution_count": 4,
   "id": "1f794ca1",
   "metadata": {},
   "outputs": [],
   "source": [
    "pa.set_init()"
   ]
  },
  {
   "cell_type": "markdown",
   "id": "3360f0d8",
   "metadata": {},
   "source": [
    "### Report 20220714\n",
    "- 최신 버전의 가격표로 바꾼 후로 오차가 커지는 현상 발생 분석 (1000 케이스 테스트에서 확인)\n",
    "- PublicAnalysis.bill_table.get 사용하여 문제점 살펴보기"
   ]
  },
  {
   "cell_type": "code",
   "execution_count": 5,
   "id": "05e406b0",
   "metadata": {},
   "outputs": [
    {
     "data": {
      "text/plain": [
       "[10190608.999999998, 10188450.0, 2158.9999999981374]"
      ]
     },
     "execution_count": 5,
     "metadata": {},
     "output_type": "execute_result"
    }
   ],
   "source": [
    "month = 1\n",
    "pa.select_month(1)\n",
    "\n",
    "pp = PublicPredictor(\n",
    "        pa.meter_month,\n",
    "        pa.month,\n",
    "        public_percentage=30\n",
    "    ).min_chk()\n",
    "\n",
    "pp.predict"
   ]
  },
  {
   "cell_type": "code",
   "execution_count": 9,
   "id": "5fcc4e45",
   "metadata": {},
   "outputs": [],
   "source": [
    "import random as ran\n",
    "import pandas as pd\n",
    "import numpy as np\n",
    "\n",
    "pp_test = list()\n",
    "pp_record = list()\n",
    "\n",
    "for _ in range(0,1000):\n",
    "    n = ran.randrange(50, len(pa.meter_year.columns) + 1)\n",
    "    _m = pa.meter_year.sample(n=n, axis=1)\n",
    "    _month = ran.randrange(1, 13)\n",
    "    \n",
    "    month_df = pd.DataFrame(_m.loc[_month])\n",
    "    month_df.reset_index(inplace=True)\n",
    "    month_df.columns = ['name', 'usage (kWh)']\n",
    "    \n",
    "    PUBLIC_PERCENTAGE = ran.randrange(10, 60)\n",
    "    households_kWh = month_df['usage (kWh)'].sum()\n",
    "    APT = round((households_kWh * 100) / (100 - PUBLIC_PERCENTAGE))\n",
    "    \n",
    "    pp = PublicPredictor(\n",
    "                    month_df,\n",
    "                    _month,\n",
    "                    kwh=APT\n",
    "                ).min_chk()\n",
    "    pp_result = pp.predict\n",
    "    \n",
    "    pp_test.append(pp_result[2])\n",
    "    pp_record.append(pp)\n",
    "    \n",
    "pp_test = np.array(pp_test)"
   ]
  },
  {
   "cell_type": "code",
   "execution_count": 10,
   "id": "3411e4bf",
   "metadata": {},
   "outputs": [
    {
     "name": "stdout",
     "output_type": "stream",
     "text": [
      "351 4056.5\n"
     ]
    }
   ],
   "source": [
    "err_idx = pp_test.argmax()\n",
    "pp = pp_record[err_idx]\n",
    "print(err_idx, pp_test[err_idx])"
   ]
  }
 ],
 "metadata": {
  "kernelspec": {
   "display_name": "Python 3 (ipykernel)",
   "language": "python",
   "name": "python3"
  },
  "language_info": {
   "codemirror_mode": {
    "name": "ipython",
    "version": 3
   },
   "file_extension": ".py",
   "mimetype": "text/x-python",
   "name": "python",
   "nbconvert_exporter": "python",
   "pygments_lexer": "ipython3",
   "version": "3.8.12"
  }
 },
 "nbformat": 4,
 "nbformat_minor": 5
}
