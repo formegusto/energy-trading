{
 "cells": [
  {
   "cell_type": "code",
   "execution_count": 1,
   "id": "ca9c0f74",
   "metadata": {},
   "outputs": [],
   "source": [
    "%load_ext autoreload\n",
    "%autoreload 2\n",
    "%reload_ext autoreload"
   ]
  },
  {
   "cell_type": "code",
   "execution_count": 3,
   "id": "95b2fa17",
   "metadata": {},
   "outputs": [],
   "source": [
    "from src.utils import meter_to_metermonth"
   ]
  },
  {
   "cell_type": "code",
   "execution_count": 41,
   "id": "e34057c5",
   "metadata": {},
   "outputs": [
    {
     "data": {
      "text/plain": [
       "['data/meter/apt_1.xlsx',\n",
       " 'data/meter/apt_2.xlsx',\n",
       " 'data/meter/apt_3.xlsx',\n",
       " 'data/meter/apt_4.xlsx',\n",
       " 'data/meter/apt_all.xlsx']"
      ]
     },
     "execution_count": 41,
     "metadata": {},
     "output_type": "execute_result"
    }
   ],
   "source": [
    "meter_path = \"data/meter/{}.xlsx\"\n",
    "convert_data_list = [meter_path.format(\"apt_1\"),\n",
    "                     meter_path.format(\"apt_2\"),\n",
    "                    meter_path.format(\"apt_3\"),\n",
    "                    meter_path.format(\"apt_4\"),\n",
    "                    meter_path.format(\"apt_all\"),]\n",
    "\n",
    "convert_data_list"
   ]
  },
  {
   "cell_type": "code",
   "execution_count": 42,
   "id": "236c10d4",
   "metadata": {},
   "outputs": [
    {
     "name": "stdout",
     "output_type": "stream",
     "text": [
      "data/meter/apt_1.xlsx to data/meter_month/apt_1\n",
      "data/meter/apt_2.xlsx to data/meter_month/apt_2\n",
      "data/meter/apt_3.xlsx to data/meter_month/apt_3\n",
      "data/meter/apt_4.xlsx to data/meter_month/apt_4\n",
      "data/meter/apt_all.xlsx to data/meter_month/apt_all\n"
     ]
    }
   ],
   "source": [
    "for file_path in convert_data_list:\n",
    "    meter_to_metermonth(file_path)"
   ]
  }
 ],
 "metadata": {
  "kernelspec": {
   "display_name": "Python 3 (ipykernel)",
   "language": "python",
   "name": "python3"
  },
  "language_info": {
   "codemirror_mode": {
    "name": "ipython",
    "version": 3
   },
   "file_extension": ".py",
   "mimetype": "text/x-python",
   "name": "python",
   "nbconvert_exporter": "python",
   "pygments_lexer": "ipython3",
   "version": "3.8.12"
  }
 },
 "nbformat": 4,
 "nbformat_minor": 5
}
