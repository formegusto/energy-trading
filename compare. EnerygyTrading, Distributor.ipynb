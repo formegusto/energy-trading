{
 "cells": [
  {
   "cell_type": "code",
   "execution_count": 1,
   "id": "6f71a3ee",
   "metadata": {},
   "outputs": [],
   "source": [
    "%load_ext autoreload\n",
    "%autoreload 2\n",
    "%reload_ext autoreload"
   ]
  },
  {
   "cell_type": "markdown",
   "id": "b5a4de54",
   "metadata": {},
   "source": [
    "### EneryTrading"
   ]
  },
  {
   "cell_type": "markdown",
   "id": "dca40bee",
   "metadata": {},
   "source": [
    "### Distributor"
   ]
  }
 ],
 "metadata": {
  "kernelspec": {
   "display_name": "Python 3 (ipykernel)",
   "language": "python",
   "name": "python3"
  },
  "language_info": {
   "codemirror_mode": {
    "name": "ipython",
    "version": 3
   },
   "file_extension": ".py",
   "mimetype": "text/x-python",
   "name": "python",
   "nbconvert_exporter": "python",
   "pygments_lexer": "ipython3",
   "version": "3.8.12"
  }
 },
 "nbformat": 4,
 "nbformat_minor": 5
}
